{
 "cells": [
  {
   "cell_type": "code",
   "execution_count": 1,
   "id": "d6acd913",
   "metadata": {
    "_cell_guid": "b1076dfc-b9ad-4769-8c92-a6c4dae69d19",
    "_uuid": "8f2839f25d086af736a60e9eeb907d3b93b6e0e5",
    "execution": {
     "iopub.execute_input": "2022-09-15T08:41:29.024287Z",
     "iopub.status.busy": "2022-09-15T08:41:29.022504Z",
     "iopub.status.idle": "2022-09-15T08:41:30.192968Z",
     "shell.execute_reply": "2022-09-15T08:41:30.191744Z"
    },
    "papermill": {
     "duration": 1.197309,
     "end_time": "2022-09-15T08:41:30.196148",
     "exception": false,
     "start_time": "2022-09-15T08:41:28.998839",
     "status": "completed"
    },
    "tags": []
   },
   "outputs": [
    {
     "name": "stdout",
     "output_type": "stream",
     "text": [
      "/kaggle/input/graduates-admission-prediction/admission_data.csv\n"
     ]
    }
   ],
   "source": [
    "# This Python 3 environment comes with many helpful analytics libraries installed\n",
    "# It is defined by the kaggle/python Docker image: https://github.com/kaggle/docker-python\n",
    "# For example, here's several helpful packages to load\n",
    "\n",
    "import numpy as np # linear algebra\n",
    "import pandas as pd # data processing, CSV file I/O (e.g. pd.read_csv)\n",
    "import matplotlib.pyplot as plt\n",
    "import seaborn as sns\n",
    "\n",
    "# Input data filebron are available in the read-only \"../input/\" directory\n",
    "# For example, running this (by clicking run or pressing Shift+Enter) will list all files under the input directory\n",
    "\n",
    "import os \n",
    "for dirname, _, filenames in os.walk('/kaggle/input'):\n",
    "    for filename in filenames:\n",
    "        print(os.path.join(dirname, filename))\n",
    "\n",
    "# You can write up to 20GB to the current directory (/kaggle/working/) that gets preserved as output when you create a version using \"Save & Run All\" \n",
    "# You can also write temporary files to /kaggle/temp/, but they won't be saved outside of the current session"
   ]
  },
  {
   "cell_type": "code",
   "execution_count": 2,
   "id": "3cabe5af",
   "metadata": {
    "execution": {
     "iopub.execute_input": "2022-09-15T08:41:30.231229Z",
     "iopub.status.busy": "2022-09-15T08:41:30.230860Z",
     "iopub.status.idle": "2022-09-15T08:41:30.267863Z",
     "shell.execute_reply": "2022-09-15T08:41:30.266341Z"
    },
    "papermill": {
     "duration": 0.056303,
     "end_time": "2022-09-15T08:41:30.270532",
     "exception": false,
     "start_time": "2022-09-15T08:41:30.214229",
     "status": "completed"
    },
    "tags": []
   },
   "outputs": [
    {
     "data": {
      "text/html": [
       "<div>\n",
       "<style scoped>\n",
       "    .dataframe tbody tr th:only-of-type {\n",
       "        vertical-align: middle;\n",
       "    }\n",
       "\n",
       "    .dataframe tbody tr th {\n",
       "        vertical-align: top;\n",
       "    }\n",
       "\n",
       "    .dataframe thead th {\n",
       "        text-align: right;\n",
       "    }\n",
       "</style>\n",
       "<table border=\"1\" class=\"dataframe\">\n",
       "  <thead>\n",
       "    <tr style=\"text-align: right;\">\n",
       "      <th></th>\n",
       "      <th>GRE Score</th>\n",
       "      <th>TOEFL Score</th>\n",
       "      <th>University Rating</th>\n",
       "      <th>SOP</th>\n",
       "      <th>LOR</th>\n",
       "      <th>CGPA</th>\n",
       "      <th>Research</th>\n",
       "      <th>Chance of Admit</th>\n",
       "    </tr>\n",
       "  </thead>\n",
       "  <tbody>\n",
       "    <tr>\n",
       "      <th>0</th>\n",
       "      <td>337</td>\n",
       "      <td>118</td>\n",
       "      <td>4</td>\n",
       "      <td>4.5</td>\n",
       "      <td>4.5</td>\n",
       "      <td>9.65</td>\n",
       "      <td>1</td>\n",
       "      <td>0.92</td>\n",
       "    </tr>\n",
       "    <tr>\n",
       "      <th>1</th>\n",
       "      <td>324</td>\n",
       "      <td>107</td>\n",
       "      <td>4</td>\n",
       "      <td>4.0</td>\n",
       "      <td>4.5</td>\n",
       "      <td>8.87</td>\n",
       "      <td>1</td>\n",
       "      <td>0.76</td>\n",
       "    </tr>\n",
       "    <tr>\n",
       "      <th>2</th>\n",
       "      <td>316</td>\n",
       "      <td>104</td>\n",
       "      <td>3</td>\n",
       "      <td>3.0</td>\n",
       "      <td>3.5</td>\n",
       "      <td>8.00</td>\n",
       "      <td>1</td>\n",
       "      <td>0.72</td>\n",
       "    </tr>\n",
       "    <tr>\n",
       "      <th>3</th>\n",
       "      <td>322</td>\n",
       "      <td>110</td>\n",
       "      <td>3</td>\n",
       "      <td>3.5</td>\n",
       "      <td>2.5</td>\n",
       "      <td>8.67</td>\n",
       "      <td>1</td>\n",
       "      <td>0.80</td>\n",
       "    </tr>\n",
       "    <tr>\n",
       "      <th>4</th>\n",
       "      <td>314</td>\n",
       "      <td>103</td>\n",
       "      <td>2</td>\n",
       "      <td>2.0</td>\n",
       "      <td>3.0</td>\n",
       "      <td>8.21</td>\n",
       "      <td>0</td>\n",
       "      <td>0.65</td>\n",
       "    </tr>\n",
       "  </tbody>\n",
       "</table>\n",
       "</div>"
      ],
      "text/plain": [
       "   GRE Score  TOEFL Score  University Rating  SOP  LOR   CGPA  Research  \\\n",
       "0        337          118                  4  4.5   4.5  9.65         1   \n",
       "1        324          107                  4  4.0   4.5  8.87         1   \n",
       "2        316          104                  3  3.0   3.5  8.00         1   \n",
       "3        322          110                  3  3.5   2.5  8.67         1   \n",
       "4        314          103                  2  2.0   3.0  8.21         0   \n",
       "\n",
       "   Chance of Admit   \n",
       "0              0.92  \n",
       "1              0.76  \n",
       "2              0.72  \n",
       "3              0.80  \n",
       "4              0.65  "
      ]
     },
     "execution_count": 2,
     "metadata": {},
     "output_type": "execute_result"
    }
   ],
   "source": [
    "df = pd.read_csv('/kaggle/input/graduates-admission-prediction/admission_data.csv')\n",
    "df.head(5)"
   ]
  },
  {
   "cell_type": "markdown",
   "id": "b662effb",
   "metadata": {
    "papermill": {
     "duration": 0.015279,
     "end_time": "2022-09-15T08:41:30.302049",
     "exception": false,
     "start_time": "2022-09-15T08:41:30.286770",
     "status": "completed"
    },
    "tags": []
   },
   "source": [
    "**Exploratory Data Analysis**\n",
    "\n",
    "1. Checking is there any missing data\n",
    "2. Checking the Statistics\n",
    "3. Checking the distributions to understand whether a student can get admit or not\n",
    "4. Checking the realtion of every independent feature vs dependent feature\n",
    "5. Checking Multicollinearlity\n"
   ]
  },
  {
   "cell_type": "markdown",
   "id": "388c2ad6",
   "metadata": {
    "papermill": {
     "duration": 0.014978,
     "end_time": "2022-09-15T08:41:30.332529",
     "exception": false,
     "start_time": "2022-09-15T08:41:30.317551",
     "status": "completed"
    },
    "tags": []
   },
   "source": [
    "# Checking the Missing Data"
   ]
  },
  {
   "cell_type": "code",
   "execution_count": 3,
   "id": "935f602a",
   "metadata": {
    "execution": {
     "iopub.execute_input": "2022-09-15T08:41:30.364987Z",
     "iopub.status.busy": "2022-09-15T08:41:30.364569Z",
     "iopub.status.idle": "2022-09-15T08:41:30.374090Z",
     "shell.execute_reply": "2022-09-15T08:41:30.372924Z"
    },
    "papermill": {
     "duration": 0.02863,
     "end_time": "2022-09-15T08:41:30.376481",
     "exception": false,
     "start_time": "2022-09-15T08:41:30.347851",
     "status": "completed"
    },
    "tags": []
   },
   "outputs": [
    {
     "data": {
      "text/plain": [
       "GRE Score            0\n",
       "TOEFL Score          0\n",
       "University Rating    0\n",
       "SOP                  0\n",
       "LOR                  0\n",
       "CGPA                 0\n",
       "Research             0\n",
       "Chance of Admit      0\n",
       "dtype: int64"
      ]
     },
     "execution_count": 3,
     "metadata": {},
     "output_type": "execute_result"
    }
   ],
   "source": [
    "df.isna().sum()"
   ]
  },
  {
   "cell_type": "markdown",
   "id": "a89f096e",
   "metadata": {
    "papermill": {
     "duration": 0.015151,
     "end_time": "2022-09-15T08:41:30.407163",
     "exception": false,
     "start_time": "2022-09-15T08:41:30.392012",
     "status": "completed"
    },
    "tags": []
   },
   "source": [
    "There are no missing values in the Dataset\n"
   ]
  },
  {
   "cell_type": "markdown",
   "id": "ba3c7a91",
   "metadata": {
    "papermill": {
     "duration": 0.015759,
     "end_time": "2022-09-15T08:41:30.438368",
     "exception": false,
     "start_time": "2022-09-15T08:41:30.422609",
     "status": "completed"
    },
    "tags": []
   },
   "source": [
    "# Checking the Statistics"
   ]
  },
  {
   "cell_type": "code",
   "execution_count": 4,
   "id": "0b5ecd9e",
   "metadata": {
    "execution": {
     "iopub.execute_input": "2022-09-15T08:41:30.471013Z",
     "iopub.status.busy": "2022-09-15T08:41:30.470592Z",
     "iopub.status.idle": "2022-09-15T08:41:30.518057Z",
     "shell.execute_reply": "2022-09-15T08:41:30.516703Z"
    },
    "papermill": {
     "duration": 0.067238,
     "end_time": "2022-09-15T08:41:30.521135",
     "exception": false,
     "start_time": "2022-09-15T08:41:30.453897",
     "status": "completed"
    },
    "tags": []
   },
   "outputs": [
    {
     "data": {
      "text/html": [
       "<div>\n",
       "<style scoped>\n",
       "    .dataframe tbody tr th:only-of-type {\n",
       "        vertical-align: middle;\n",
       "    }\n",
       "\n",
       "    .dataframe tbody tr th {\n",
       "        vertical-align: top;\n",
       "    }\n",
       "\n",
       "    .dataframe thead th {\n",
       "        text-align: right;\n",
       "    }\n",
       "</style>\n",
       "<table border=\"1\" class=\"dataframe\">\n",
       "  <thead>\n",
       "    <tr style=\"text-align: right;\">\n",
       "      <th></th>\n",
       "      <th>GRE Score</th>\n",
       "      <th>TOEFL Score</th>\n",
       "      <th>University Rating</th>\n",
       "      <th>SOP</th>\n",
       "      <th>LOR</th>\n",
       "      <th>CGPA</th>\n",
       "      <th>Research</th>\n",
       "      <th>Chance of Admit</th>\n",
       "    </tr>\n",
       "  </thead>\n",
       "  <tbody>\n",
       "    <tr>\n",
       "      <th>count</th>\n",
       "      <td>500.000000</td>\n",
       "      <td>500.000000</td>\n",
       "      <td>500.000000</td>\n",
       "      <td>500.000000</td>\n",
       "      <td>500.00000</td>\n",
       "      <td>500.000000</td>\n",
       "      <td>500.000000</td>\n",
       "      <td>500.00000</td>\n",
       "    </tr>\n",
       "    <tr>\n",
       "      <th>mean</th>\n",
       "      <td>316.472000</td>\n",
       "      <td>107.192000</td>\n",
       "      <td>3.114000</td>\n",
       "      <td>3.374000</td>\n",
       "      <td>3.48400</td>\n",
       "      <td>8.576440</td>\n",
       "      <td>0.560000</td>\n",
       "      <td>0.72174</td>\n",
       "    </tr>\n",
       "    <tr>\n",
       "      <th>std</th>\n",
       "      <td>11.295148</td>\n",
       "      <td>6.081868</td>\n",
       "      <td>1.143512</td>\n",
       "      <td>0.991004</td>\n",
       "      <td>0.92545</td>\n",
       "      <td>0.604813</td>\n",
       "      <td>0.496884</td>\n",
       "      <td>0.14114</td>\n",
       "    </tr>\n",
       "    <tr>\n",
       "      <th>min</th>\n",
       "      <td>290.000000</td>\n",
       "      <td>92.000000</td>\n",
       "      <td>1.000000</td>\n",
       "      <td>1.000000</td>\n",
       "      <td>1.00000</td>\n",
       "      <td>6.800000</td>\n",
       "      <td>0.000000</td>\n",
       "      <td>0.34000</td>\n",
       "    </tr>\n",
       "    <tr>\n",
       "      <th>25%</th>\n",
       "      <td>308.000000</td>\n",
       "      <td>103.000000</td>\n",
       "      <td>2.000000</td>\n",
       "      <td>2.500000</td>\n",
       "      <td>3.00000</td>\n",
       "      <td>8.127500</td>\n",
       "      <td>0.000000</td>\n",
       "      <td>0.63000</td>\n",
       "    </tr>\n",
       "    <tr>\n",
       "      <th>50%</th>\n",
       "      <td>317.000000</td>\n",
       "      <td>107.000000</td>\n",
       "      <td>3.000000</td>\n",
       "      <td>3.500000</td>\n",
       "      <td>3.50000</td>\n",
       "      <td>8.560000</td>\n",
       "      <td>1.000000</td>\n",
       "      <td>0.72000</td>\n",
       "    </tr>\n",
       "    <tr>\n",
       "      <th>75%</th>\n",
       "      <td>325.000000</td>\n",
       "      <td>112.000000</td>\n",
       "      <td>4.000000</td>\n",
       "      <td>4.000000</td>\n",
       "      <td>4.00000</td>\n",
       "      <td>9.040000</td>\n",
       "      <td>1.000000</td>\n",
       "      <td>0.82000</td>\n",
       "    </tr>\n",
       "    <tr>\n",
       "      <th>max</th>\n",
       "      <td>340.000000</td>\n",
       "      <td>120.000000</td>\n",
       "      <td>5.000000</td>\n",
       "      <td>5.000000</td>\n",
       "      <td>5.00000</td>\n",
       "      <td>9.920000</td>\n",
       "      <td>1.000000</td>\n",
       "      <td>0.97000</td>\n",
       "    </tr>\n",
       "  </tbody>\n",
       "</table>\n",
       "</div>"
      ],
      "text/plain": [
       "        GRE Score  TOEFL Score  University Rating         SOP       LOR   \\\n",
       "count  500.000000   500.000000         500.000000  500.000000  500.00000   \n",
       "mean   316.472000   107.192000           3.114000    3.374000    3.48400   \n",
       "std     11.295148     6.081868           1.143512    0.991004    0.92545   \n",
       "min    290.000000    92.000000           1.000000    1.000000    1.00000   \n",
       "25%    308.000000   103.000000           2.000000    2.500000    3.00000   \n",
       "50%    317.000000   107.000000           3.000000    3.500000    3.50000   \n",
       "75%    325.000000   112.000000           4.000000    4.000000    4.00000   \n",
       "max    340.000000   120.000000           5.000000    5.000000    5.00000   \n",
       "\n",
       "             CGPA    Research  Chance of Admit   \n",
       "count  500.000000  500.000000         500.00000  \n",
       "mean     8.576440    0.560000           0.72174  \n",
       "std      0.604813    0.496884           0.14114  \n",
       "min      6.800000    0.000000           0.34000  \n",
       "25%      8.127500    0.000000           0.63000  \n",
       "50%      8.560000    1.000000           0.72000  \n",
       "75%      9.040000    1.000000           0.82000  \n",
       "max      9.920000    1.000000           0.97000  "
      ]
     },
     "execution_count": 4,
     "metadata": {},
     "output_type": "execute_result"
    }
   ],
   "source": [
    "df.describe()"
   ]
  },
  {
   "cell_type": "markdown",
   "id": "127320fa",
   "metadata": {
    "papermill": {
     "duration": 0.021129,
     "end_time": "2022-09-15T08:41:30.563373",
     "exception": false,
     "start_time": "2022-09-15T08:41:30.542244",
     "status": "completed"
    },
    "tags": []
   },
   "source": [
    "50 percent of the students have admit chance greater than 72%"
   ]
  },
  {
   "cell_type": "markdown",
   "id": "be274225",
   "metadata": {
    "papermill": {
     "duration": 0.01889,
     "end_time": "2022-09-15T08:41:30.607241",
     "exception": false,
     "start_time": "2022-09-15T08:41:30.588351",
     "status": "completed"
    },
    "tags": []
   },
   "source": [
    "# Checking the distributions"
   ]
  },
  {
   "cell_type": "code",
   "execution_count": 5,
   "id": "f4d68b42",
   "metadata": {
    "execution": {
     "iopub.execute_input": "2022-09-15T08:41:30.643644Z",
     "iopub.status.busy": "2022-09-15T08:41:30.642934Z",
     "iopub.status.idle": "2022-09-15T08:41:31.912367Z",
     "shell.execute_reply": "2022-09-15T08:41:31.911089Z"
    },
    "papermill": {
     "duration": 1.289203,
     "end_time": "2022-09-15T08:41:31.915111",
     "exception": false,
     "start_time": "2022-09-15T08:41:30.625908",
     "status": "completed"
    },
    "tags": []
   },
   "outputs": [
    {
     "data": {
      "text/plain": [
       "<AxesSubplot:title={'center':'Research'}, xlabel='Research', ylabel='count'>"
      ]
     },
     "execution_count": 5,
     "metadata": {},
     "output_type": "execute_result"
    },
    {
     "data": {
      "image/png": "[encoded data removed]",
      "text/plain": [
       "<Figure size 864x1080 with 7 Axes>"
      ]
     },
     "metadata": {
      "needs_background": "light"
     },
     "output_type": "display_data"
    }
   ],
   "source": [
    "import warnings\n",
    "warnings.filterwarnings(\"ignore\")\n",
    "\n",
    "plt.figure(figsize=(12,15))\n",
    "plt.subplot(4,2,1)\n",
    "plt.title('GRE Score', fontsize=15)\n",
    "sns.distplot(df['GRE Score'], color='red')\n",
    "\n",
    "plt.subplot(4,2,2)\n",
    "plt.title('TOEFL Score', fontsize=15)\n",
    "sns.distplot(df['TOEFL Score'], color='red')\n",
    "\n",
    "plt.subplot(4,2,3)\n",
    "plt.title('University rating', fontsize=15)\n",
    "sns.countplot(x=df['University Rating'], color='red')\n",
    "plt.ylabel('Count of students')\n",
    "\n",
    "plt.subplot(4,2,4)\n",
    "plt.title('CGPA', fontsize=15)\n",
    "sns.distplot(df['CGPA'], color='red')\n",
    "\n",
    "plt.subplot(4,2,5)\n",
    "plt.title('LOR ', fontsize=15)\n",
    "sns.countplot(df['LOR '], color='red')\n",
    "\n",
    "plt.subplot(4,2,6)\n",
    "plt.title('SOP', fontsize=15)\n",
    "sns.countplot(df['SOP'], color='red')\n",
    "\n",
    "plt.subplot(4,2,7)\n",
    "plt.title('Research', fontsize=15)\n",
    "sns.countplot(df['Research'], color='red')\n",
    "\n"
   ]
  },
  {
   "cell_type": "markdown",
   "id": "76d6bf75",
   "metadata": {
    "papermill": {
     "duration": 0.017279,
     "end_time": "2022-09-15T08:41:31.949911",
     "exception": false,
     "start_time": "2022-09-15T08:41:31.932632",
     "status": "completed"
    },
    "tags": []
   },
   "source": [
    "# Checking the realtion of every independent feature vs dependent feature"
   ]
  },
  {
   "cell_type": "code",
   "execution_count": 6,
   "id": "625aaba6",
   "metadata": {
    "execution": {
     "iopub.execute_input": "2022-09-15T08:41:31.986462Z",
     "iopub.status.busy": "2022-09-15T08:41:31.985657Z",
     "iopub.status.idle": "2022-09-15T08:41:32.002398Z",
     "shell.execute_reply": "2022-09-15T08:41:32.001554Z"
    },
    "papermill": {
     "duration": 0.037599,
     "end_time": "2022-09-15T08:41:32.004584",
     "exception": false,
     "start_time": "2022-09-15T08:41:31.966985",
     "status": "completed"
    },
    "tags": []
   },
   "outputs": [
    {
     "data": {
      "text/html": [
       "<div>\n",
       "<style scoped>\n",
       "    .dataframe tbody tr th:only-of-type {\n",
       "        vertical-align: middle;\n",
       "    }\n",
       "\n",
       "    .dataframe tbody tr th {\n",
       "        vertical-align: top;\n",
       "    }\n",
       "\n",
       "    .dataframe thead th {\n",
       "        text-align: right;\n",
       "    }\n",
       "</style>\n",
       "<table border=\"1\" class=\"dataframe\">\n",
       "  <thead>\n",
       "    <tr style=\"text-align: right;\">\n",
       "      <th></th>\n",
       "      <th>GRE Score</th>\n",
       "      <th>TOEFL Score</th>\n",
       "      <th>University Rating</th>\n",
       "      <th>SOP</th>\n",
       "      <th>LOR</th>\n",
       "      <th>CGPA</th>\n",
       "      <th>Research</th>\n",
       "      <th>Chance of Admit</th>\n",
       "    </tr>\n",
       "  </thead>\n",
       "  <tbody>\n",
       "    <tr>\n",
       "      <th>GRE Score</th>\n",
       "      <td>1.000000</td>\n",
       "      <td>0.827200</td>\n",
       "      <td>0.635376</td>\n",
       "      <td>0.613498</td>\n",
       "      <td>0.524679</td>\n",
       "      <td>0.825878</td>\n",
       "      <td>0.563398</td>\n",
       "      <td>0.810351</td>\n",
       "    </tr>\n",
       "    <tr>\n",
       "      <th>TOEFL Score</th>\n",
       "      <td>0.827200</td>\n",
       "      <td>1.000000</td>\n",
       "      <td>0.649799</td>\n",
       "      <td>0.644410</td>\n",
       "      <td>0.541563</td>\n",
       "      <td>0.810574</td>\n",
       "      <td>0.467012</td>\n",
       "      <td>0.792228</td>\n",
       "    </tr>\n",
       "    <tr>\n",
       "      <th>University Rating</th>\n",
       "      <td>0.635376</td>\n",
       "      <td>0.649799</td>\n",
       "      <td>1.000000</td>\n",
       "      <td>0.728024</td>\n",
       "      <td>0.608651</td>\n",
       "      <td>0.705254</td>\n",
       "      <td>0.427047</td>\n",
       "      <td>0.690132</td>\n",
       "    </tr>\n",
       "    <tr>\n",
       "      <th>SOP</th>\n",
       "      <td>0.613498</td>\n",
       "      <td>0.644410</td>\n",
       "      <td>0.728024</td>\n",
       "      <td>1.000000</td>\n",
       "      <td>0.663707</td>\n",
       "      <td>0.712154</td>\n",
       "      <td>0.408116</td>\n",
       "      <td>0.684137</td>\n",
       "    </tr>\n",
       "    <tr>\n",
       "      <th>LOR</th>\n",
       "      <td>0.524679</td>\n",
       "      <td>0.541563</td>\n",
       "      <td>0.608651</td>\n",
       "      <td>0.663707</td>\n",
       "      <td>1.000000</td>\n",
       "      <td>0.637469</td>\n",
       "      <td>0.372526</td>\n",
       "      <td>0.645365</td>\n",
       "    </tr>\n",
       "    <tr>\n",
       "      <th>CGPA</th>\n",
       "      <td>0.825878</td>\n",
       "      <td>0.810574</td>\n",
       "      <td>0.705254</td>\n",
       "      <td>0.712154</td>\n",
       "      <td>0.637469</td>\n",
       "      <td>1.000000</td>\n",
       "      <td>0.501311</td>\n",
       "      <td>0.882413</td>\n",
       "    </tr>\n",
       "    <tr>\n",
       "      <th>Research</th>\n",
       "      <td>0.563398</td>\n",
       "      <td>0.467012</td>\n",
       "      <td>0.427047</td>\n",
       "      <td>0.408116</td>\n",
       "      <td>0.372526</td>\n",
       "      <td>0.501311</td>\n",
       "      <td>1.000000</td>\n",
       "      <td>0.545871</td>\n",
       "    </tr>\n",
       "    <tr>\n",
       "      <th>Chance of Admit</th>\n",
       "      <td>0.810351</td>\n",
       "      <td>0.792228</td>\n",
       "      <td>0.690132</td>\n",
       "      <td>0.684137</td>\n",
       "      <td>0.645365</td>\n",
       "      <td>0.882413</td>\n",
       "      <td>0.545871</td>\n",
       "      <td>1.000000</td>\n",
       "    </tr>\n",
       "  </tbody>\n",
       "</table>\n",
       "</div>"
      ],
      "text/plain": [
       "                   GRE Score  TOEFL Score  University Rating       SOP  \\\n",
       "GRE Score           1.000000     0.827200           0.635376  0.613498   \n",
       "TOEFL Score         0.827200     1.000000           0.649799  0.644410   \n",
       "University Rating   0.635376     0.649799           1.000000  0.728024   \n",
       "SOP                 0.613498     0.644410           0.728024  1.000000   \n",
       "LOR                 0.524679     0.541563           0.608651  0.663707   \n",
       "CGPA                0.825878     0.810574           0.705254  0.712154   \n",
       "Research            0.563398     0.467012           0.427047  0.408116   \n",
       "Chance of Admit     0.810351     0.792228           0.690132  0.684137   \n",
       "\n",
       "                       LOR       CGPA  Research  Chance of Admit   \n",
       "GRE Score          0.524679  0.825878  0.563398          0.810351  \n",
       "TOEFL Score        0.541563  0.810574  0.467012          0.792228  \n",
       "University Rating  0.608651  0.705254  0.427047          0.690132  \n",
       "SOP                0.663707  0.712154  0.408116          0.684137  \n",
       "LOR                1.000000  0.637469  0.372526          0.645365  \n",
       "CGPA               0.637469  1.000000  0.501311          0.882413  \n",
       "Research           0.372526  0.501311  1.000000          0.545871  \n",
       "Chance of Admit    0.645365  0.882413  0.545871          1.000000  "
      ]
     },
     "execution_count": 6,
     "metadata": {},
     "output_type": "execute_result"
    }
   ],
   "source": [
    "df.corr()"
   ]
  },
  {
   "cell_type": "code",
   "execution_count": 7,
   "id": "7c439d09",
   "metadata": {
    "execution": {
     "iopub.execute_input": "2022-09-15T08:41:32.042139Z",
     "iopub.status.busy": "2022-09-15T08:41:32.041384Z",
     "iopub.status.idle": "2022-09-15T08:41:32.684575Z",
     "shell.execute_reply": "2022-09-15T08:41:32.683757Z"
    },
    "papermill": {
     "duration": 0.664581,
     "end_time": "2022-09-15T08:41:32.686581",
     "exception": false,
     "start_time": "2022-09-15T08:41:32.022000",
     "status": "completed"
    },
    "tags": []
   },
   "outputs": [
    {
     "data": {
      "text/plain": [
       "<Figure size 1080x2160 with 0 Axes>"
      ]
     },
     "execution_count": 7,
     "metadata": {},
     "output_type": "execute_result"
    },
    {
     "data": {
      "image/png": "[encoded data removed]",
      "text/plain": [
       "<Figure size 432x288 with 2 Axes>"
      ]
     },
     "metadata": {
      "needs_background": "light"
     },
     "output_type": "display_data"
    },
    {
     "data": {
      "text/plain": [
       "<Figure size 1080x2160 with 0 Axes>"
      ]
     },
     "metadata": {},
     "output_type": "display_data"
    }
   ],
   "source": [
    "sns.heatmap(df.corr(),annot=True)\n",
    "plt.figure(figsize=(15,30))"
   ]
  },
  {
   "cell_type": "markdown",
   "id": "8415975c",
   "metadata": {
    "papermill": {
     "duration": 0.018109,
     "end_time": "2022-09-15T08:41:32.722727",
     "exception": false,
     "start_time": "2022-09-15T08:41:32.704618",
     "status": "completed"
    },
    "tags": []
   },
   "source": [
    "# Checking the distributions to understand whether a student can get admit or not"
   ]
  },
  {
   "cell_type": "code",
   "execution_count": 8,
   "id": "0a882429",
   "metadata": {
    "execution": {
     "iopub.execute_input": "2022-09-15T08:41:32.760696Z",
     "iopub.status.busy": "2022-09-15T08:41:32.760233Z",
     "iopub.status.idle": "2022-09-15T08:41:32.980822Z",
     "shell.execute_reply": "2022-09-15T08:41:32.979935Z"
    },
    "papermill": {
     "duration": 0.24239,
     "end_time": "2022-09-15T08:41:32.983066",
     "exception": false,
     "start_time": "2022-09-15T08:41:32.740676",
     "status": "completed"
    },
    "tags": []
   },
   "outputs": [
    {
     "data": {
      "image/png": "[encoded data removed]",
      "text/plain": [
       "<Figure size 432x288 with 1 Axes>"
      ]
     },
     "metadata": {
      "needs_background": "light"
     },
     "output_type": "display_data"
    }
   ],
   "source": [
    "plt.scatter(df['GRE Score'], df['Chance of Admit '])\n",
    "plt.xlabel('GRE Score')\n",
    "plt.ylabel('Chance of Admit ')\n",
    "plt.title('Distribution of GRE vs Admit')\n",
    "plt.show()"
   ]
  },
  {
   "cell_type": "code",
   "execution_count": 9,
   "id": "36ba54cf",
   "metadata": {
    "execution": {
     "iopub.execute_input": "2022-09-15T08:41:33.023505Z",
     "iopub.status.busy": "2022-09-15T08:41:33.022243Z",
     "iopub.status.idle": "2022-09-15T08:41:33.367691Z",
     "shell.execute_reply": "2022-09-15T08:41:33.366385Z"
    },
    "papermill": {
     "duration": 0.367796,
     "end_time": "2022-09-15T08:41:33.370140",
     "exception": false,
     "start_time": "2022-09-15T08:41:33.002344",
     "status": "completed"
    },
    "tags": []
   },
   "outputs": [
    {
     "data": {
      "image/png": "[encoded data removed]",
      "text/plain": [
       "<Figure size 432x288 with 1 Axes>"
      ]
     },
     "metadata": {
      "needs_background": "light"
     },
     "output_type": "display_data"
    }
   ],
   "source": [
    "sns.regplot(df['GRE Score'], df['Chance of Admit '])\n",
    "plt.xlabel('GRE Score')\n",
    "plt.ylabel('Chance of Admit ')\n",
    "plt.title('Distribution of GRE vs Admit')\n",
    "plt.show()"
   ]
  },
  {
   "cell_type": "markdown",
   "id": "7621877e",
   "metadata": {
    "papermill": {
     "duration": 0.018648,
     "end_time": "2022-09-15T08:41:33.407839",
     "exception": false,
     "start_time": "2022-09-15T08:41:33.389191",
     "status": "completed"
    },
    "tags": []
   },
   "source": [
    "Higher the GRE Score, getting the chance of admit is also high. They are positively correlated"
   ]
  },
  {
   "cell_type": "code",
   "execution_count": 10,
   "id": "81d51364",
   "metadata": {
    "execution": {
     "iopub.execute_input": "2022-09-15T08:41:33.447921Z",
     "iopub.status.busy": "2022-09-15T08:41:33.447119Z",
     "iopub.status.idle": "2022-09-15T08:41:33.795701Z",
     "shell.execute_reply": "2022-09-15T08:41:33.794679Z"
    },
    "papermill": {
     "duration": 0.371176,
     "end_time": "2022-09-15T08:41:33.798219",
     "exception": false,
     "start_time": "2022-09-15T08:41:33.427043",
     "status": "completed"
    },
    "tags": []
   },
   "outputs": [
    {
     "data": {
      "image/png": "[encoded data removed]",
      "text/plain": [
       "<Figure size 432x288 with 1 Axes>"
      ]
     },
     "metadata": {
      "needs_background": "light"
     },
     "output_type": "display_data"
    }
   ],
   "source": [
    "sns.regplot(df['GRE Score'], df['University Rating'])\n",
    "plt.xlabel('GRE Score')\n",
    "plt.ylabel('University Rating')\n",
    "plt.title('Distribution of GRE vs University Rating')\n",
    "plt.show()"
   ]
  },
  {
   "cell_type": "markdown",
   "id": "62000ab3",
   "metadata": {
    "papermill": {
     "duration": 0.019126,
     "end_time": "2022-09-15T08:41:33.836903",
     "exception": false,
     "start_time": "2022-09-15T08:41:33.817777",
     "status": "completed"
    },
    "tags": []
   },
   "source": [
    "If the university rating is more, it is ideal that University accepts higher GRE Scores"
   ]
  },
  {
   "cell_type": "code",
   "execution_count": 11,
   "id": "36a0aaf4",
   "metadata": {
    "execution": {
     "iopub.execute_input": "2022-09-15T08:41:33.878431Z",
     "iopub.status.busy": "2022-09-15T08:41:33.877761Z",
     "iopub.status.idle": "2022-09-15T08:41:34.223411Z",
     "shell.execute_reply": "2022-09-15T08:41:34.222270Z"
    },
    "papermill": {
     "duration": 0.369594,
     "end_time": "2022-09-15T08:41:34.226216",
     "exception": false,
     "start_time": "2022-09-15T08:41:33.856622",
     "status": "completed"
    },
    "tags": []
   },
   "outputs": [
    {
     "data": {
      "image/png": "[encoded data removed]",
      "text/plain": [
       "<Figure size 432x288 with 1 Axes>"
      ]
     },
     "metadata": {
      "needs_background": "light"
     },
     "output_type": "display_data"
    }
   ],
   "source": [
    "sns.regplot(df['GRE Score'], df['SOP'])\n",
    "plt.xlabel('GRE Score')\n",
    "plt.ylabel('SOP')\n",
    "plt.title('Distribution of GRE vs SOP')\n",
    "plt.show()"
   ]
  },
  {
   "cell_type": "code",
   "execution_count": 12,
   "id": "0496c03f",
   "metadata": {
    "execution": {
     "iopub.execute_input": "2022-09-15T08:41:34.272797Z",
     "iopub.status.busy": "2022-09-15T08:41:34.271889Z",
     "iopub.status.idle": "2022-09-15T08:41:34.621270Z",
     "shell.execute_reply": "2022-09-15T08:41:34.620108Z"
    },
    "papermill": {
     "duration": 0.375256,
     "end_time": "2022-09-15T08:41:34.623686",
     "exception": false,
     "start_time": "2022-09-15T08:41:34.248430",
     "status": "completed"
    },
    "tags": []
   },
   "outputs": [
    {
     "data": {
      "image/png": "[encoded data removed]",
      "text/plain": [
       "<Figure size 432x288 with 1 Axes>"
      ]
     },
     "metadata": {
      "needs_background": "light"
     },
     "output_type": "display_data"
    }
   ],
   "source": [
    "sns.regplot(df['GRE Score'], df['LOR '])\n",
    "plt.xlabel('GRE Score')\n",
    "plt.ylabel('LOR')\n",
    "plt.title('Distribution of GRE vs LOR')\n",
    "plt.show()"
   ]
  },
  {
   "cell_type": "markdown",
   "id": "7f362500",
   "metadata": {
    "papermill": {
     "duration": 0.020093,
     "end_time": "2022-09-15T08:41:34.664028",
     "exception": false,
     "start_time": "2022-09-15T08:41:34.643935",
     "status": "completed"
    },
    "tags": []
   },
   "source": [
    "In case of SOP and LOR. It is evident that people students having higher GRE Score having high and low strength of SOP. For example, students having GRE Score between 320 and 330 having SOP strength of 1.5 and also 5. It is same for LOR"
   ]
  },
  {
   "cell_type": "code",
   "execution_count": 13,
   "id": "739af79e",
   "metadata": {
    "execution": {
     "iopub.execute_input": "2022-09-15T08:41:34.707014Z",
     "iopub.status.busy": "2022-09-15T08:41:34.705845Z",
     "iopub.status.idle": "2022-09-15T08:41:35.046431Z",
     "shell.execute_reply": "2022-09-15T08:41:35.045623Z"
    },
    "papermill": {
     "duration": 0.364446,
     "end_time": "2022-09-15T08:41:35.048862",
     "exception": false,
     "start_time": "2022-09-15T08:41:34.684416",
     "status": "completed"
    },
    "tags": []
   },
   "outputs": [
    {
     "data": {
      "image/png": "[encoded data removed]",
      "text/plain": [
       "<Figure size 432x288 with 1 Axes>"
      ]
     },
     "metadata": {
      "needs_background": "light"
     },
     "output_type": "display_data"
    }
   ],
   "source": [
    "sns.regplot(df['GRE Score'], df['CGPA'])\n",
    "plt.xlabel('GRE Score')\n",
    "plt.ylabel('CGPA')\n",
    "plt.title('Distribution of GRE vs CGPA')\n",
    "plt.show()"
   ]
  },
  {
   "cell_type": "markdown",
   "id": "976d8ee6",
   "metadata": {
    "papermill": {
     "duration": 0.021797,
     "end_time": "2022-09-15T08:41:35.092110",
     "exception": false,
     "start_time": "2022-09-15T08:41:35.070313",
     "status": "completed"
    },
    "tags": []
   },
   "source": [
    "There may be chances that people with low CGPA can also scored high GRE Scores"
   ]
  },
  {
   "cell_type": "code",
   "execution_count": 14,
   "id": "79aad21c",
   "metadata": {
    "execution": {
     "iopub.execute_input": "2022-09-15T08:41:35.136853Z",
     "iopub.status.busy": "2022-09-15T08:41:35.136148Z",
     "iopub.status.idle": "2022-09-15T08:41:35.945981Z",
     "shell.execute_reply": "2022-09-15T08:41:35.944799Z"
    },
    "papermill": {
     "duration": 0.8351,
     "end_time": "2022-09-15T08:41:35.948540",
     "exception": false,
     "start_time": "2022-09-15T08:41:35.113440",
     "status": "completed"
    },
    "tags": []
   },
   "outputs": [
    {
     "data": {
      "image/png": "[encoded data removed]",
      "text/plain": [
       "<Figure size 413.75x360 with 1 Axes>"
      ]
     },
     "metadata": {
      "needs_background": "light"
     },
     "output_type": "display_data"
    }
   ],
   "source": [
    "fig = sns.lmplot(x=\"GRE Score\", y=\"LOR \", data=df, hue=\"Research\")\n",
    "plt.title(\"GRE Score vs LOR\")\n",
    "plt.show()"
   ]
  },
  {
   "cell_type": "code",
   "execution_count": 15,
   "id": "e2d68625",
   "metadata": {
    "execution": {
     "iopub.execute_input": "2022-09-15T08:41:35.996010Z",
     "iopub.status.busy": "2022-09-15T08:41:35.995632Z",
     "iopub.status.idle": "2022-09-15T08:41:36.577738Z",
     "shell.execute_reply": "2022-09-15T08:41:36.576670Z"
    },
    "papermill": {
     "duration": 0.609082,
     "end_time": "2022-09-15T08:41:36.580638",
     "exception": false,
     "start_time": "2022-09-15T08:41:35.971556",
     "status": "completed"
    },
    "tags": []
   },
   "outputs": [
    {
     "data": {
      "image/png": "[encoded data removed]",
      "text/plain": [
       "<Figure size 413.75x360 with 1 Axes>"
      ]
     },
     "metadata": {
      "needs_background": "light"
     },
     "output_type": "display_data"
    }
   ],
   "source": [
    "fig = sns.lmplot(x=\"GRE Score\", y=\"SOP\", data=df, hue=\"Research\")\n",
    "plt.title(\"GRE Score vs SOP\")\n",
    "plt.show()"
   ]
  },
  {
   "cell_type": "code",
   "execution_count": 16,
   "id": "4015cf49",
   "metadata": {
    "execution": {
     "iopub.execute_input": "2022-09-15T08:41:36.627901Z",
     "iopub.status.busy": "2022-09-15T08:41:36.627212Z",
     "iopub.status.idle": "2022-09-15T08:41:37.207533Z",
     "shell.execute_reply": "2022-09-15T08:41:37.206404Z"
    },
    "papermill": {
     "duration": 0.607415,
     "end_time": "2022-09-15T08:41:37.210341",
     "exception": false,
     "start_time": "2022-09-15T08:41:36.602926",
     "status": "completed"
    },
    "tags": []
   },
   "outputs": [
    {
     "data": {
      "image/png": "[encoded data removed]",
      "text/plain": [
       "<Figure size 413.75x360 with 1 Axes>"
      ]
     },
     "metadata": {
      "needs_background": "light"
     },
     "output_type": "display_data"
    }
   ],
   "source": [
    "fig = sns.lmplot(x=\"CGPA\", y=\"SOP\", data=df, hue=\"Research\")\n",
    "plt.title(\"CGPA vs SOP\")\n",
    "plt.show()"
   ]
  },
  {
   "cell_type": "code",
   "execution_count": 17,
   "id": "9ff64afe",
   "metadata": {
    "execution": {
     "iopub.execute_input": "2022-09-15T08:41:37.258902Z",
     "iopub.status.busy": "2022-09-15T08:41:37.258195Z",
     "iopub.status.idle": "2022-09-15T08:41:37.546495Z",
     "shell.execute_reply": "2022-09-15T08:41:37.545275Z"
    },
    "papermill": {
     "duration": 0.315472,
     "end_time": "2022-09-15T08:41:37.549061",
     "exception": false,
     "start_time": "2022-09-15T08:41:37.233589",
     "status": "completed"
    },
    "tags": []
   },
   "outputs": [
    {
     "data": {
      "image/png": "[encoded data removed]",
      "text/plain": [
       "<Figure size 432x288 with 1 Axes>"
      ]
     },
     "metadata": {
      "needs_background": "light"
     },
     "output_type": "display_data"
    }
   ],
   "source": [
    "sns.regplot(df['University Rating'], df['Chance of Admit '])\n",
    "plt.xlabel('University Rating')\n",
    "plt.ylabel('Chance of Admit ')\n",
    "plt.title('Distribution of University Rating vs Chance of Admit ')\n",
    "plt.show()"
   ]
  },
  {
   "cell_type": "markdown",
   "id": "cfe6e1b2",
   "metadata": {
    "papermill": {
     "duration": 0.023184,
     "end_time": "2022-09-15T08:41:37.595668",
     "exception": false,
     "start_time": "2022-09-15T08:41:37.572484",
     "status": "completed"
    },
    "tags": []
   },
   "source": [
    "It is evident that higher the University Rating, greater the chances of Admit. But we can clearly say that, University also gives admit based on other factors such as LOR, CGPA, SOP"
   ]
  },
  {
   "cell_type": "code",
   "execution_count": 18,
   "id": "4afd10a6",
   "metadata": {
    "execution": {
     "iopub.execute_input": "2022-09-15T08:41:37.644050Z",
     "iopub.status.busy": "2022-09-15T08:41:37.643667Z",
     "iopub.status.idle": "2022-09-15T08:41:37.923089Z",
     "shell.execute_reply": "2022-09-15T08:41:37.922312Z"
    },
    "papermill": {
     "duration": 0.306414,
     "end_time": "2022-09-15T08:41:37.925309",
     "exception": false,
     "start_time": "2022-09-15T08:41:37.618895",
     "status": "completed"
    },
    "tags": []
   },
   "outputs": [
    {
     "data": {
      "image/png": "[encoded data removed]",
      "text/plain": [
       "<Figure size 432x288 with 1 Axes>"
      ]
     },
     "metadata": {
      "needs_background": "light"
     },
     "output_type": "display_data"
    }
   ],
   "source": [
    "sns.regplot(df['University Rating'], df['CGPA'])\n",
    "plt.xlabel('University Rating')\n",
    "plt.ylabel('CGPA')\n",
    "plt.title('Distribution of University Rating vs CGPA')\n",
    "plt.show()"
   ]
  },
  {
   "cell_type": "markdown",
   "id": "d0070642",
   "metadata": {
    "papermill": {
     "duration": 0.024246,
     "end_time": "2022-09-15T08:41:37.973393",
     "exception": false,
     "start_time": "2022-09-15T08:41:37.949147",
     "status": "completed"
    },
    "tags": []
   },
   "source": [
    "Higher Univerity Rating universities have merit students they are having good CGPA"
   ]
  },
  {
   "cell_type": "code",
   "execution_count": 19,
   "id": "149f7f1b",
   "metadata": {
    "execution": {
     "iopub.execute_input": "2022-09-15T08:41:38.026557Z",
     "iopub.status.busy": "2022-09-15T08:41:38.025781Z",
     "iopub.status.idle": "2022-09-15T08:41:38.310143Z",
     "shell.execute_reply": "2022-09-15T08:41:38.309319Z"
    },
    "papermill": {
     "duration": 0.313561,
     "end_time": "2022-09-15T08:41:38.312302",
     "exception": false,
     "start_time": "2022-09-15T08:41:37.998741",
     "status": "completed"
    },
    "tags": []
   },
   "outputs": [
    {
     "data": {
      "image/png": "[encoded data removed]",
      "text/plain": [
       "<Figure size 432x288 with 1 Axes>"
      ]
     },
     "metadata": {
      "needs_background": "light"
     },
     "output_type": "display_data"
    }
   ],
   "source": [
    "sns.regplot(df['University Rating'], df['TOEFL Score'])\n",
    "plt.xlabel('University Rating')\n",
    "plt.ylabel('TOEFL Score')\n",
    "plt.title('Distribution of University Rating vs TOEFL Score')\n",
    "plt.show()"
   ]
  },
  {
   "cell_type": "markdown",
   "id": "24205566",
   "metadata": {
    "papermill": {
     "duration": 0.023918,
     "end_time": "2022-09-15T08:41:38.360383",
     "exception": false,
     "start_time": "2022-09-15T08:41:38.336465",
     "status": "completed"
    },
    "tags": []
   },
   "source": [
    "There is some positive correaltion. But there are exceptions such as students in lower University ratings also have good scores of GRE and TOFEL  and vice-versa"
   ]
  },
  {
   "cell_type": "markdown",
   "id": "13fd7525",
   "metadata": {
    "papermill": {
     "duration": 0.024507,
     "end_time": "2022-09-15T08:41:38.410030",
     "exception": false,
     "start_time": "2022-09-15T08:41:38.385523",
     "status": "completed"
    },
    "tags": []
   },
   "source": [
    "Upon the previous observation, there are many instances such as student with same GRE and TOFEL Scores may applied to different universities with different ratings"
   ]
  },
  {
   "cell_type": "code",
   "execution_count": 20,
   "id": "b521bf69",
   "metadata": {
    "execution": {
     "iopub.execute_input": "2022-09-15T08:41:38.460976Z",
     "iopub.status.busy": "2022-09-15T08:41:38.460216Z",
     "iopub.status.idle": "2022-09-15T08:41:38.815001Z",
     "shell.execute_reply": "2022-09-15T08:41:38.813959Z"
    },
    "papermill": {
     "duration": 0.383168,
     "end_time": "2022-09-15T08:41:38.817437",
     "exception": false,
     "start_time": "2022-09-15T08:41:38.434269",
     "status": "completed"
    },
    "tags": []
   },
   "outputs": [
    {
     "data": {
      "image/png": "[encoded data removed]",
      "text/plain": [
       "<Figure size 432x288 with 1 Axes>"
      ]
     },
     "metadata": {
      "needs_background": "light"
     },
     "output_type": "display_data"
    }
   ],
   "source": [
    "sns.regplot(df['University Rating'], df['SOP'])\n",
    "plt.xlabel('University Rating')\n",
    "plt.ylabel('SOP')\n",
    "plt.title('Distribution of University Rating vs SOP')\n",
    "plt.show()"
   ]
  },
  {
   "cell_type": "code",
   "execution_count": 21,
   "id": "15b5dc9e",
   "metadata": {
    "execution": {
     "iopub.execute_input": "2022-09-15T08:41:38.868338Z",
     "iopub.status.busy": "2022-09-15T08:41:38.867912Z",
     "iopub.status.idle": "2022-09-15T08:41:39.217269Z",
     "shell.execute_reply": "2022-09-15T08:41:39.216212Z"
    },
    "papermill": {
     "duration": 0.377885,
     "end_time": "2022-09-15T08:41:39.219759",
     "exception": false,
     "start_time": "2022-09-15T08:41:38.841874",
     "status": "completed"
    },
    "tags": []
   },
   "outputs": [
    {
     "data": {
      "image/png": "[encoded data removed]",
      "text/plain": [
       "<Figure size 432x288 with 1 Axes>"
      ]
     },
     "metadata": {
      "needs_background": "light"
     },
     "output_type": "display_data"
    }
   ],
   "source": [
    "sns.regplot(df['University Rating'], df['LOR '])\n",
    "plt.xlabel('University Rating')\n",
    "plt.ylabel('LOR')\n",
    "plt.title('Distribution of University Rating vs LOR')\n",
    "plt.show()"
   ]
  },
  {
   "cell_type": "code",
   "execution_count": 22,
   "id": "9317b455",
   "metadata": {
    "execution": {
     "iopub.execute_input": "2022-09-15T08:41:39.273304Z",
     "iopub.status.busy": "2022-09-15T08:41:39.272808Z",
     "iopub.status.idle": "2022-09-15T08:41:39.624636Z",
     "shell.execute_reply": "2022-09-15T08:41:39.623670Z"
    },
    "papermill": {
     "duration": 0.382437,
     "end_time": "2022-09-15T08:41:39.626971",
     "exception": false,
     "start_time": "2022-09-15T08:41:39.244534",
     "status": "completed"
    },
    "tags": []
   },
   "outputs": [
    {
     "data": {
      "image/png": "[encoded data removed]",
      "text/plain": [
       "<Figure size 432x288 with 1 Axes>"
      ]
     },
     "metadata": {
      "needs_background": "light"
     },
     "output_type": "display_data"
    }
   ],
   "source": [
    "sns.regplot(df['CGPA'], df['SOP'])\n",
    "plt.xlabel('CGPA')\n",
    "plt.ylabel('SOP')\n",
    "plt.title('Distribution of CGPA vs SOP')\n",
    "plt.show()"
   ]
  },
  {
   "cell_type": "code",
   "execution_count": 23,
   "id": "89fe630e",
   "metadata": {
    "execution": {
     "iopub.execute_input": "2022-09-15T08:41:39.681187Z",
     "iopub.status.busy": "2022-09-15T08:41:39.680070Z",
     "iopub.status.idle": "2022-09-15T08:41:40.025678Z",
     "shell.execute_reply": "2022-09-15T08:41:40.024469Z"
    },
    "papermill": {
     "duration": 0.375479,
     "end_time": "2022-09-15T08:41:40.027934",
     "exception": false,
     "start_time": "2022-09-15T08:41:39.652455",
     "status": "completed"
    },
    "tags": []
   },
   "outputs": [
    {
     "data": {
      "image/png": "[encoded data removed]",
      "text/plain": [
       "<Figure size 432x288 with 1 Axes>"
      ]
     },
     "metadata": {
      "needs_background": "light"
     },
     "output_type": "display_data"
    }
   ],
   "source": [
    "sns.regplot(df['CGPA'], df['LOR '])\n",
    "plt.xlabel('CGPA')\n",
    "plt.ylabel('LOR')\n",
    "plt.title('Distribution of CGPA vs LOR')\n",
    "plt.show()"
   ]
  },
  {
   "cell_type": "markdown",
   "id": "958682b1",
   "metadata": {
    "papermill": {
     "duration": 0.025816,
     "end_time": "2022-09-15T08:41:40.080027",
     "exception": false,
     "start_time": "2022-09-15T08:41:40.054211",
     "status": "completed"
    },
    "tags": []
   },
   "source": [
    "We cannot say the students having more CGPA have better SOP and LOR. There are few students who have low CGPA and having good LOR and SOP"
   ]
  },
  {
   "cell_type": "markdown",
   "id": "56aaa3ec",
   "metadata": {
    "papermill": {
     "duration": 0.025683,
     "end_time": "2022-09-15T08:41:40.131459",
     "exception": false,
     "start_time": "2022-09-15T08:41:40.105776",
     "status": "completed"
    },
    "tags": []
   },
   "source": [
    "# Finding chances to get an admit"
   ]
  },
  {
   "cell_type": "markdown",
   "id": "0a6f591d",
   "metadata": {
    "papermill": {
     "duration": 0.025489,
     "end_time": "2022-09-15T08:41:40.183479",
     "exception": false,
     "start_time": "2022-09-15T08:41:40.157990",
     "status": "completed"
    },
    "tags": []
   },
   "source": [
    "Let us try to find what is the minimum profile to get the admission"
   ]
  },
  {
   "cell_type": "markdown",
   "id": "2a0f1115",
   "metadata": {
    "papermill": {
     "duration": 0.025979,
     "end_time": "2022-09-15T08:41:40.235780",
     "exception": false,
     "start_time": "2022-09-15T08:41:40.209801",
     "status": "completed"
    },
    "tags": []
   },
   "source": [
    "## GRE "
   ]
  },
  {
   "cell_type": "code",
   "execution_count": 24,
   "id": "4dfb4c40",
   "metadata": {
    "execution": {
     "iopub.execute_input": "2022-09-15T08:41:40.289905Z",
     "iopub.status.busy": "2022-09-15T08:41:40.289471Z",
     "iopub.status.idle": "2022-09-15T08:41:40.304921Z",
     "shell.execute_reply": "2022-09-15T08:41:40.304001Z"
    },
    "papermill": {
     "duration": 0.045072,
     "end_time": "2022-09-15T08:41:40.306997",
     "exception": false,
     "start_time": "2022-09-15T08:41:40.261925",
     "status": "completed"
    },
    "tags": []
   },
   "outputs": [
    {
     "data": {
      "text/html": [
       "<div>\n",
       "<style scoped>\n",
       "    .dataframe tbody tr th:only-of-type {\n",
       "        vertical-align: middle;\n",
       "    }\n",
       "\n",
       "    .dataframe tbody tr th {\n",
       "        vertical-align: top;\n",
       "    }\n",
       "\n",
       "    .dataframe thead th {\n",
       "        text-align: right;\n",
       "    }\n",
       "</style>\n",
       "<table border=\"1\" class=\"dataframe\">\n",
       "  <thead>\n",
       "    <tr style=\"text-align: right;\">\n",
       "      <th></th>\n",
       "      <th>GRE Score</th>\n",
       "      <th>TOEFL Score</th>\n",
       "      <th>University Rating</th>\n",
       "      <th>SOP</th>\n",
       "      <th>LOR</th>\n",
       "      <th>CGPA</th>\n",
       "      <th>Research</th>\n",
       "      <th>Chance of Admit</th>\n",
       "    </tr>\n",
       "  </thead>\n",
       "  <tbody>\n",
       "    <tr>\n",
       "      <th>204</th>\n",
       "      <td>298</td>\n",
       "      <td>105</td>\n",
       "      <td>3</td>\n",
       "      <td>3.5</td>\n",
       "      <td>4.0</td>\n",
       "      <td>8.54</td>\n",
       "      <td>0</td>\n",
       "      <td>0.69</td>\n",
       "    </tr>\n",
       "    <tr>\n",
       "      <th>327</th>\n",
       "      <td>295</td>\n",
       "      <td>101</td>\n",
       "      <td>2</td>\n",
       "      <td>2.5</td>\n",
       "      <td>2.0</td>\n",
       "      <td>7.86</td>\n",
       "      <td>0</td>\n",
       "      <td>0.69</td>\n",
       "    </tr>\n",
       "    <tr>\n",
       "      <th>182</th>\n",
       "      <td>299</td>\n",
       "      <td>100</td>\n",
       "      <td>2</td>\n",
       "      <td>3.0</td>\n",
       "      <td>3.5</td>\n",
       "      <td>7.88</td>\n",
       "      <td>0</td>\n",
       "      <td>0.68</td>\n",
       "    </tr>\n",
       "  </tbody>\n",
       "</table>\n",
       "</div>"
      ],
      "text/plain": [
       "     GRE Score  TOEFL Score  University Rating  SOP  LOR   CGPA  Research  \\\n",
       "204        298          105                  3  3.5   4.0  8.54         0   \n",
       "327        295          101                  2  2.5   2.0  7.86         0   \n",
       "182        299          100                  2  3.0   3.5  7.88         0   \n",
       "\n",
       "     Chance of Admit   \n",
       "204              0.69  \n",
       "327              0.69  \n",
       "182              0.68  "
      ]
     },
     "execution_count": 24,
     "metadata": {},
     "output_type": "execute_result"
    }
   ],
   "source": [
    "#Find students having GRE less than 300\n",
    "df[df['GRE Score']<300].sort_values('Chance of Admit ',ascending=False).head(3)"
   ]
  },
  {
   "cell_type": "code",
   "execution_count": 25,
   "id": "1fef65e7",
   "metadata": {
    "execution": {
     "iopub.execute_input": "2022-09-15T08:41:40.361842Z",
     "iopub.status.busy": "2022-09-15T08:41:40.361146Z",
     "iopub.status.idle": "2022-09-15T08:41:40.376482Z",
     "shell.execute_reply": "2022-09-15T08:41:40.375600Z"
    },
    "papermill": {
     "duration": 0.045095,
     "end_time": "2022-09-15T08:41:40.378587",
     "exception": false,
     "start_time": "2022-09-15T08:41:40.333492",
     "status": "completed"
    },
    "tags": []
   },
   "outputs": [
    {
     "data": {
      "text/html": [
       "<div>\n",
       "<style scoped>\n",
       "    .dataframe tbody tr th:only-of-type {\n",
       "        vertical-align: middle;\n",
       "    }\n",
       "\n",
       "    .dataframe tbody tr th {\n",
       "        vertical-align: top;\n",
       "    }\n",
       "\n",
       "    .dataframe thead th {\n",
       "        text-align: right;\n",
       "    }\n",
       "</style>\n",
       "<table border=\"1\" class=\"dataframe\">\n",
       "  <thead>\n",
       "    <tr style=\"text-align: right;\">\n",
       "      <th></th>\n",
       "      <th>GRE Score</th>\n",
       "      <th>TOEFL Score</th>\n",
       "      <th>University Rating</th>\n",
       "      <th>SOP</th>\n",
       "      <th>LOR</th>\n",
       "      <th>CGPA</th>\n",
       "      <th>Research</th>\n",
       "      <th>Chance of Admit</th>\n",
       "    </tr>\n",
       "  </thead>\n",
       "  <tbody>\n",
       "    <tr>\n",
       "      <th>255</th>\n",
       "      <td>307</td>\n",
       "      <td>110</td>\n",
       "      <td>4</td>\n",
       "      <td>4.0</td>\n",
       "      <td>4.5</td>\n",
       "      <td>8.37</td>\n",
       "      <td>0</td>\n",
       "      <td>0.79</td>\n",
       "    </tr>\n",
       "    <tr>\n",
       "      <th>195</th>\n",
       "      <td>307</td>\n",
       "      <td>107</td>\n",
       "      <td>2</td>\n",
       "      <td>3.0</td>\n",
       "      <td>3.5</td>\n",
       "      <td>8.52</td>\n",
       "      <td>1</td>\n",
       "      <td>0.78</td>\n",
       "    </tr>\n",
       "    <tr>\n",
       "      <th>131</th>\n",
       "      <td>303</td>\n",
       "      <td>105</td>\n",
       "      <td>5</td>\n",
       "      <td>5.0</td>\n",
       "      <td>4.5</td>\n",
       "      <td>8.65</td>\n",
       "      <td>0</td>\n",
       "      <td>0.77</td>\n",
       "    </tr>\n",
       "    <tr>\n",
       "      <th>269</th>\n",
       "      <td>308</td>\n",
       "      <td>108</td>\n",
       "      <td>4</td>\n",
       "      <td>4.5</td>\n",
       "      <td>5.0</td>\n",
       "      <td>8.34</td>\n",
       "      <td>0</td>\n",
       "      <td>0.77</td>\n",
       "    </tr>\n",
       "    <tr>\n",
       "      <th>256</th>\n",
       "      <td>309</td>\n",
       "      <td>99</td>\n",
       "      <td>3</td>\n",
       "      <td>4.0</td>\n",
       "      <td>4.0</td>\n",
       "      <td>8.56</td>\n",
       "      <td>0</td>\n",
       "      <td>0.76</td>\n",
       "    </tr>\n",
       "  </tbody>\n",
       "</table>\n",
       "</div>"
      ],
      "text/plain": [
       "     GRE Score  TOEFL Score  University Rating  SOP  LOR   CGPA  Research  \\\n",
       "255        307          110                  4  4.0   4.5  8.37         0   \n",
       "195        307          107                  2  3.0   3.5  8.52         1   \n",
       "131        303          105                  5  5.0   4.5  8.65         0   \n",
       "269        308          108                  4  4.5   5.0  8.34         0   \n",
       "256        309           99                  3  4.0   4.0  8.56         0   \n",
       "\n",
       "     Chance of Admit   \n",
       "255              0.79  \n",
       "195              0.78  \n",
       "131              0.77  \n",
       "269              0.77  \n",
       "256              0.76  "
      ]
     },
     "execution_count": 25,
     "metadata": {},
     "output_type": "execute_result"
    }
   ],
   "source": [
    "#Find students having GRE less than 310\n",
    "df[df['GRE Score']<310].sort_values('Chance of Admit ',ascending=False).head(5)"
   ]
  },
  {
   "cell_type": "code",
   "execution_count": 26,
   "id": "ec9b1a82",
   "metadata": {
    "execution": {
     "iopub.execute_input": "2022-09-15T08:41:40.433477Z",
     "iopub.status.busy": "2022-09-15T08:41:40.432777Z",
     "iopub.status.idle": "2022-09-15T08:41:40.447473Z",
     "shell.execute_reply": "2022-09-15T08:41:40.446509Z"
    },
    "papermill": {
     "duration": 0.045158,
     "end_time": "2022-09-15T08:41:40.449904",
     "exception": false,
     "start_time": "2022-09-15T08:41:40.404746",
     "status": "completed"
    },
    "tags": []
   },
   "outputs": [
    {
     "data": {
      "text/html": [
       "<div>\n",
       "<style scoped>\n",
       "    .dataframe tbody tr th:only-of-type {\n",
       "        vertical-align: middle;\n",
       "    }\n",
       "\n",
       "    .dataframe tbody tr th {\n",
       "        vertical-align: top;\n",
       "    }\n",
       "\n",
       "    .dataframe thead th {\n",
       "        text-align: right;\n",
       "    }\n",
       "</style>\n",
       "<table border=\"1\" class=\"dataframe\">\n",
       "  <thead>\n",
       "    <tr style=\"text-align: right;\">\n",
       "      <th></th>\n",
       "      <th>GRE Score</th>\n",
       "      <th>TOEFL Score</th>\n",
       "      <th>University Rating</th>\n",
       "      <th>SOP</th>\n",
       "      <th>LOR</th>\n",
       "      <th>CGPA</th>\n",
       "      <th>Research</th>\n",
       "      <th>Chance of Admit</th>\n",
       "    </tr>\n",
       "  </thead>\n",
       "  <tbody>\n",
       "    <tr>\n",
       "      <th>73</th>\n",
       "      <td>314</td>\n",
       "      <td>108</td>\n",
       "      <td>4</td>\n",
       "      <td>4.5</td>\n",
       "      <td>4.0</td>\n",
       "      <td>9.04</td>\n",
       "      <td>1</td>\n",
       "      <td>0.84</td>\n",
       "    </tr>\n",
       "    <tr>\n",
       "      <th>186</th>\n",
       "      <td>317</td>\n",
       "      <td>107</td>\n",
       "      <td>3</td>\n",
       "      <td>3.5</td>\n",
       "      <td>3.0</td>\n",
       "      <td>8.68</td>\n",
       "      <td>1</td>\n",
       "      <td>0.84</td>\n",
       "    </tr>\n",
       "    <tr>\n",
       "      <th>177</th>\n",
       "      <td>319</td>\n",
       "      <td>110</td>\n",
       "      <td>3</td>\n",
       "      <td>3.5</td>\n",
       "      <td>3.5</td>\n",
       "      <td>9.04</td>\n",
       "      <td>0</td>\n",
       "      <td>0.82</td>\n",
       "    </tr>\n",
       "  </tbody>\n",
       "</table>\n",
       "</div>"
      ],
      "text/plain": [
       "     GRE Score  TOEFL Score  University Rating  SOP  LOR   CGPA  Research  \\\n",
       "73         314          108                  4  4.5   4.0  9.04         1   \n",
       "186        317          107                  3  3.5   3.0  8.68         1   \n",
       "177        319          110                  3  3.5   3.5  9.04         0   \n",
       "\n",
       "     Chance of Admit   \n",
       "73               0.84  \n",
       "186              0.84  \n",
       "177              0.82  "
      ]
     },
     "execution_count": 26,
     "metadata": {},
     "output_type": "execute_result"
    }
   ],
   "source": [
    "#Find students having GRE less than 320\n",
    "df[(df['GRE Score']>310) & (df['GRE Score']<320)].sort_values('Chance of Admit ',ascending=False).head(3)"
   ]
  },
  {
   "cell_type": "markdown",
   "id": "779aa661",
   "metadata": {
    "papermill": {
     "duration": 0.026236,
     "end_time": "2022-09-15T08:41:40.502757",
     "exception": false,
     "start_time": "2022-09-15T08:41:40.476521",
     "status": "completed"
    },
    "tags": []
   },
   "source": [
    "By seeing the previous observations, One should have GRE Score greater than 310 then we have higher chances of getting admission. There are few students who have GRE Score less than 310 and getting chances of Admit close to 80% because they have improved in other areas. But at the safe side, one need to score more than 80%. "
   ]
  },
  {
   "cell_type": "markdown",
   "id": "67af8fa8",
   "metadata": {
    "papermill": {
     "duration": 0.026916,
     "end_time": "2022-09-15T08:41:40.558594",
     "exception": false,
     "start_time": "2022-09-15T08:41:40.531678",
     "status": "completed"
    },
    "tags": []
   },
   "source": [
    "## TOFEL"
   ]
  },
  {
   "cell_type": "code",
   "execution_count": 27,
   "id": "c581c005",
   "metadata": {
    "execution": {
     "iopub.execute_input": "2022-09-15T08:41:40.613778Z",
     "iopub.status.busy": "2022-09-15T08:41:40.613048Z",
     "iopub.status.idle": "2022-09-15T08:41:40.627386Z",
     "shell.execute_reply": "2022-09-15T08:41:40.626549Z"
    },
    "papermill": {
     "duration": 0.044418,
     "end_time": "2022-09-15T08:41:40.629430",
     "exception": false,
     "start_time": "2022-09-15T08:41:40.585012",
     "status": "completed"
    },
    "tags": []
   },
   "outputs": [
    {
     "data": {
      "text/html": [
       "<div>\n",
       "<style scoped>\n",
       "    .dataframe tbody tr th:only-of-type {\n",
       "        vertical-align: middle;\n",
       "    }\n",
       "\n",
       "    .dataframe tbody tr th {\n",
       "        vertical-align: top;\n",
       "    }\n",
       "\n",
       "    .dataframe thead th {\n",
       "        text-align: right;\n",
       "    }\n",
       "</style>\n",
       "<table border=\"1\" class=\"dataframe\">\n",
       "  <thead>\n",
       "    <tr style=\"text-align: right;\">\n",
       "      <th></th>\n",
       "      <th>GRE Score</th>\n",
       "      <th>TOEFL Score</th>\n",
       "      <th>University Rating</th>\n",
       "      <th>SOP</th>\n",
       "      <th>LOR</th>\n",
       "      <th>CGPA</th>\n",
       "      <th>Research</th>\n",
       "      <th>Chance of Admit</th>\n",
       "    </tr>\n",
       "  </thead>\n",
       "  <tbody>\n",
       "    <tr>\n",
       "      <th>50</th>\n",
       "      <td>313</td>\n",
       "      <td>98</td>\n",
       "      <td>3</td>\n",
       "      <td>2.5</td>\n",
       "      <td>4.5</td>\n",
       "      <td>8.30</td>\n",
       "      <td>1</td>\n",
       "      <td>0.76</td>\n",
       "    </tr>\n",
       "    <tr>\n",
       "      <th>256</th>\n",
       "      <td>309</td>\n",
       "      <td>99</td>\n",
       "      <td>3</td>\n",
       "      <td>4.0</td>\n",
       "      <td>4.0</td>\n",
       "      <td>8.56</td>\n",
       "      <td>0</td>\n",
       "      <td>0.76</td>\n",
       "    </tr>\n",
       "    <tr>\n",
       "      <th>466</th>\n",
       "      <td>314</td>\n",
       "      <td>99</td>\n",
       "      <td>4</td>\n",
       "      <td>3.5</td>\n",
       "      <td>4.5</td>\n",
       "      <td>8.73</td>\n",
       "      <td>1</td>\n",
       "      <td>0.71</td>\n",
       "    </tr>\n",
       "  </tbody>\n",
       "</table>\n",
       "</div>"
      ],
      "text/plain": [
       "     GRE Score  TOEFL Score  University Rating  SOP  LOR   CGPA  Research  \\\n",
       "50         313           98                  3  2.5   4.5  8.30         1   \n",
       "256        309           99                  3  4.0   4.0  8.56         0   \n",
       "466        314           99                  4  3.5   4.5  8.73         1   \n",
       "\n",
       "     Chance of Admit   \n",
       "50               0.76  \n",
       "256              0.76  \n",
       "466              0.71  "
      ]
     },
     "execution_count": 27,
     "metadata": {},
     "output_type": "execute_result"
    }
   ],
   "source": [
    "df[df['TOEFL Score']<100].sort_values('Chance of Admit ',ascending=False).head(3)"
   ]
  },
  {
   "cell_type": "code",
   "execution_count": 28,
   "id": "b3d22d31",
   "metadata": {
    "execution": {
     "iopub.execute_input": "2022-09-15T08:41:40.685975Z",
     "iopub.status.busy": "2022-09-15T08:41:40.685210Z",
     "iopub.status.idle": "2022-09-15T08:41:40.700289Z",
     "shell.execute_reply": "2022-09-15T08:41:40.699175Z"
    },
    "papermill": {
     "duration": 0.046533,
     "end_time": "2022-09-15T08:41:40.702867",
     "exception": false,
     "start_time": "2022-09-15T08:41:40.656334",
     "status": "completed"
    },
    "tags": []
   },
   "outputs": [
    {
     "data": {
      "text/html": [
       "<div>\n",
       "<style scoped>\n",
       "    .dataframe tbody tr th:only-of-type {\n",
       "        vertical-align: middle;\n",
       "    }\n",
       "\n",
       "    .dataframe tbody tr th {\n",
       "        vertical-align: top;\n",
       "    }\n",
       "\n",
       "    .dataframe thead th {\n",
       "        text-align: right;\n",
       "    }\n",
       "</style>\n",
       "<table border=\"1\" class=\"dataframe\">\n",
       "  <thead>\n",
       "    <tr style=\"text-align: right;\">\n",
       "      <th></th>\n",
       "      <th>GRE Score</th>\n",
       "      <th>TOEFL Score</th>\n",
       "      <th>University Rating</th>\n",
       "      <th>SOP</th>\n",
       "      <th>LOR</th>\n",
       "      <th>CGPA</th>\n",
       "      <th>Research</th>\n",
       "      <th>Chance of Admit</th>\n",
       "    </tr>\n",
       "  </thead>\n",
       "  <tbody>\n",
       "    <tr>\n",
       "      <th>288</th>\n",
       "      <td>314</td>\n",
       "      <td>104</td>\n",
       "      <td>4</td>\n",
       "      <td>5.0</td>\n",
       "      <td>5.0</td>\n",
       "      <td>9.02</td>\n",
       "      <td>0</td>\n",
       "      <td>0.82</td>\n",
       "    </tr>\n",
       "    <tr>\n",
       "      <th>480</th>\n",
       "      <td>321</td>\n",
       "      <td>102</td>\n",
       "      <td>3</td>\n",
       "      <td>3.5</td>\n",
       "      <td>4.0</td>\n",
       "      <td>9.01</td>\n",
       "      <td>1</td>\n",
       "      <td>0.80</td>\n",
       "    </tr>\n",
       "    <tr>\n",
       "      <th>449</th>\n",
       "      <td>315</td>\n",
       "      <td>101</td>\n",
       "      <td>3</td>\n",
       "      <td>3.5</td>\n",
       "      <td>4.5</td>\n",
       "      <td>9.13</td>\n",
       "      <td>0</td>\n",
       "      <td>0.79</td>\n",
       "    </tr>\n",
       "  </tbody>\n",
       "</table>\n",
       "</div>"
      ],
      "text/plain": [
       "     GRE Score  TOEFL Score  University Rating  SOP  LOR   CGPA  Research  \\\n",
       "288        314          104                  4  5.0   5.0  9.02         0   \n",
       "480        321          102                  3  3.5   4.0  9.01         1   \n",
       "449        315          101                  3  3.5   4.5  9.13         0   \n",
       "\n",
       "     Chance of Admit   \n",
       "288              0.82  \n",
       "480              0.80  \n",
       "449              0.79  "
      ]
     },
     "execution_count": 28,
     "metadata": {},
     "output_type": "execute_result"
    }
   ],
   "source": [
    "df[df['TOEFL Score']<105].sort_values('Chance of Admit ',ascending=False).head(3)"
   ]
  },
  {
   "cell_type": "code",
   "execution_count": 29,
   "id": "4d126bb9",
   "metadata": {
    "execution": {
     "iopub.execute_input": "2022-09-15T08:41:40.758912Z",
     "iopub.status.busy": "2022-09-15T08:41:40.758116Z",
     "iopub.status.idle": "2022-09-15T08:41:40.773793Z",
     "shell.execute_reply": "2022-09-15T08:41:40.772698Z"
    },
    "papermill": {
     "duration": 0.046199,
     "end_time": "2022-09-15T08:41:40.775957",
     "exception": false,
     "start_time": "2022-09-15T08:41:40.729758",
     "status": "completed"
    },
    "tags": []
   },
   "outputs": [
    {
     "data": {
      "text/html": [
       "<div>\n",
       "<style scoped>\n",
       "    .dataframe tbody tr th:only-of-type {\n",
       "        vertical-align: middle;\n",
       "    }\n",
       "\n",
       "    .dataframe tbody tr th {\n",
       "        vertical-align: top;\n",
       "    }\n",
       "\n",
       "    .dataframe thead th {\n",
       "        text-align: right;\n",
       "    }\n",
       "</style>\n",
       "<table border=\"1\" class=\"dataframe\">\n",
       "  <thead>\n",
       "    <tr style=\"text-align: right;\">\n",
       "      <th></th>\n",
       "      <th>GRE Score</th>\n",
       "      <th>TOEFL Score</th>\n",
       "      <th>University Rating</th>\n",
       "      <th>SOP</th>\n",
       "      <th>LOR</th>\n",
       "      <th>CGPA</th>\n",
       "      <th>Research</th>\n",
       "      <th>Chance of Admit</th>\n",
       "    </tr>\n",
       "  </thead>\n",
       "  <tbody>\n",
       "    <tr>\n",
       "      <th>495</th>\n",
       "      <td>332</td>\n",
       "      <td>108</td>\n",
       "      <td>5</td>\n",
       "      <td>4.5</td>\n",
       "      <td>4.0</td>\n",
       "      <td>9.02</td>\n",
       "      <td>1</td>\n",
       "      <td>0.87</td>\n",
       "    </tr>\n",
       "    <tr>\n",
       "      <th>260</th>\n",
       "      <td>327</td>\n",
       "      <td>108</td>\n",
       "      <td>5</td>\n",
       "      <td>5.0</td>\n",
       "      <td>3.5</td>\n",
       "      <td>9.13</td>\n",
       "      <td>1</td>\n",
       "      <td>0.87</td>\n",
       "    </tr>\n",
       "    <tr>\n",
       "      <th>217</th>\n",
       "      <td>321</td>\n",
       "      <td>109</td>\n",
       "      <td>4</td>\n",
       "      <td>4.0</td>\n",
       "      <td>4.0</td>\n",
       "      <td>9.13</td>\n",
       "      <td>1</td>\n",
       "      <td>0.85</td>\n",
       "    </tr>\n",
       "  </tbody>\n",
       "</table>\n",
       "</div>"
      ],
      "text/plain": [
       "     GRE Score  TOEFL Score  University Rating  SOP  LOR   CGPA  Research  \\\n",
       "495        332          108                  5  4.5   4.0  9.02         1   \n",
       "260        327          108                  5  5.0   3.5  9.13         1   \n",
       "217        321          109                  4  4.0   4.0  9.13         1   \n",
       "\n",
       "     Chance of Admit   \n",
       "495              0.87  \n",
       "260              0.87  \n",
       "217              0.85  "
      ]
     },
     "execution_count": 29,
     "metadata": {},
     "output_type": "execute_result"
    }
   ],
   "source": [
    "df[(df['TOEFL Score']>105) & (df['TOEFL Score']<110)].sort_values('Chance of Admit ',ascending=False).head(3)"
   ]
  },
  {
   "cell_type": "markdown",
   "id": "7e1d4c70",
   "metadata": {
    "papermill": {
     "duration": 0.026476,
     "end_time": "2022-09-15T08:41:40.829470",
     "exception": false,
     "start_time": "2022-09-15T08:41:40.802994",
     "status": "completed"
    },
    "tags": []
   },
   "source": [
    "Students who have TOEFL score around 105 have 80% chance of Admit. I think one need to score 105 to get admit"
   ]
  },
  {
   "cell_type": "markdown",
   "id": "60aed842",
   "metadata": {
    "papermill": {
     "duration": 0.026777,
     "end_time": "2022-09-15T08:41:40.883131",
     "exception": false,
     "start_time": "2022-09-15T08:41:40.856354",
     "status": "completed"
    },
    "tags": []
   },
   "source": [
    "## GRE and TOFEL"
   ]
  },
  {
   "cell_type": "code",
   "execution_count": 30,
   "id": "1b612e85",
   "metadata": {
    "execution": {
     "iopub.execute_input": "2022-09-15T08:41:40.939047Z",
     "iopub.status.busy": "2022-09-15T08:41:40.938424Z",
     "iopub.status.idle": "2022-09-15T08:41:40.954896Z",
     "shell.execute_reply": "2022-09-15T08:41:40.953747Z"
    },
    "papermill": {
     "duration": 0.047099,
     "end_time": "2022-09-15T08:41:40.957093",
     "exception": false,
     "start_time": "2022-09-15T08:41:40.909994",
     "status": "completed"
    },
    "tags": []
   },
   "outputs": [
    {
     "data": {
      "text/html": [
       "<div>\n",
       "<style scoped>\n",
       "    .dataframe tbody tr th:only-of-type {\n",
       "        vertical-align: middle;\n",
       "    }\n",
       "\n",
       "    .dataframe tbody tr th {\n",
       "        vertical-align: top;\n",
       "    }\n",
       "\n",
       "    .dataframe thead th {\n",
       "        text-align: right;\n",
       "    }\n",
       "</style>\n",
       "<table border=\"1\" class=\"dataframe\">\n",
       "  <thead>\n",
       "    <tr style=\"text-align: right;\">\n",
       "      <th></th>\n",
       "      <th>GRE Score</th>\n",
       "      <th>TOEFL Score</th>\n",
       "      <th>University Rating</th>\n",
       "      <th>SOP</th>\n",
       "      <th>LOR</th>\n",
       "      <th>CGPA</th>\n",
       "      <th>Research</th>\n",
       "      <th>Chance of Admit</th>\n",
       "    </tr>\n",
       "  </thead>\n",
       "  <tbody>\n",
       "    <tr>\n",
       "      <th>256</th>\n",
       "      <td>309</td>\n",
       "      <td>99</td>\n",
       "      <td>3</td>\n",
       "      <td>4.0</td>\n",
       "      <td>4.0</td>\n",
       "      <td>8.56</td>\n",
       "      <td>0</td>\n",
       "      <td>0.76</td>\n",
       "    </tr>\n",
       "    <tr>\n",
       "      <th>179</th>\n",
       "      <td>307</td>\n",
       "      <td>102</td>\n",
       "      <td>3</td>\n",
       "      <td>3.0</td>\n",
       "      <td>3.0</td>\n",
       "      <td>8.27</td>\n",
       "      <td>0</td>\n",
       "      <td>0.73</td>\n",
       "    </tr>\n",
       "    <tr>\n",
       "      <th>483</th>\n",
       "      <td>304</td>\n",
       "      <td>103</td>\n",
       "      <td>5</td>\n",
       "      <td>5.0</td>\n",
       "      <td>3.0</td>\n",
       "      <td>7.92</td>\n",
       "      <td>0</td>\n",
       "      <td>0.71</td>\n",
       "    </tr>\n",
       "  </tbody>\n",
       "</table>\n",
       "</div>"
      ],
      "text/plain": [
       "     GRE Score  TOEFL Score  University Rating  SOP  LOR   CGPA  Research  \\\n",
       "256        309           99                  3  4.0   4.0  8.56         0   \n",
       "179        307          102                  3  3.0   3.0  8.27         0   \n",
       "483        304          103                  5  5.0   3.0  7.92         0   \n",
       "\n",
       "     Chance of Admit   \n",
       "256              0.76  \n",
       "179              0.73  \n",
       "483              0.71  "
      ]
     },
     "execution_count": 30,
     "metadata": {},
     "output_type": "execute_result"
    }
   ],
   "source": [
    "df[(df['GRE Score']<310) & (df['TOEFL Score']<105)].sort_values('Chance of Admit ',ascending=False).head(3)"
   ]
  },
  {
   "cell_type": "markdown",
   "id": "73c60503",
   "metadata": {
    "papermill": {
     "duration": 0.026784,
     "end_time": "2022-09-15T08:41:41.010933",
     "exception": false,
     "start_time": "2022-09-15T08:41:40.984149",
     "status": "completed"
    },
    "tags": []
   },
   "source": [
    "We can clearly see that students who had GRE scores less than 310 and TOEFL less than 105 has lesser chances of Admit"
   ]
  },
  {
   "cell_type": "markdown",
   "id": "97394fff",
   "metadata": {
    "papermill": {
     "duration": 0.029253,
     "end_time": "2022-09-15T08:41:41.067353",
     "exception": false,
     "start_time": "2022-09-15T08:41:41.038100",
     "status": "completed"
    },
    "tags": []
   },
   "source": [
    "# University Rating"
   ]
  },
  {
   "cell_type": "code",
   "execution_count": 31,
   "id": "c48361df",
   "metadata": {
    "execution": {
     "iopub.execute_input": "2022-09-15T08:41:41.124935Z",
     "iopub.status.busy": "2022-09-15T08:41:41.123996Z",
     "iopub.status.idle": "2022-09-15T08:41:41.145509Z",
     "shell.execute_reply": "2022-09-15T08:41:41.144639Z"
    },
    "papermill": {
     "duration": 0.052844,
     "end_time": "2022-09-15T08:41:41.147849",
     "exception": false,
     "start_time": "2022-09-15T08:41:41.095005",
     "status": "completed"
    },
    "tags": []
   },
   "outputs": [
    {
     "data": {
      "text/html": [
       "<div>\n",
       "<style scoped>\n",
       "    .dataframe tbody tr th:only-of-type {\n",
       "        vertical-align: middle;\n",
       "    }\n",
       "\n",
       "    .dataframe tbody tr th {\n",
       "        vertical-align: top;\n",
       "    }\n",
       "\n",
       "    .dataframe thead tr th {\n",
       "        text-align: left;\n",
       "    }\n",
       "\n",
       "    .dataframe thead tr:last-of-type th {\n",
       "        text-align: right;\n",
       "    }\n",
       "</style>\n",
       "<table border=\"1\" class=\"dataframe\">\n",
       "  <thead>\n",
       "    <tr>\n",
       "      <th></th>\n",
       "      <th colspan=\"3\" halign=\"left\">Chance of Admit</th>\n",
       "    </tr>\n",
       "    <tr>\n",
       "      <th></th>\n",
       "      <th>mean</th>\n",
       "      <th>min</th>\n",
       "      <th>max</th>\n",
       "    </tr>\n",
       "    <tr>\n",
       "      <th>University Rating</th>\n",
       "      <th></th>\n",
       "      <th></th>\n",
       "      <th></th>\n",
       "    </tr>\n",
       "  </thead>\n",
       "  <tbody>\n",
       "    <tr>\n",
       "      <th>1</th>\n",
       "      <td>0.562059</td>\n",
       "      <td>0.36</td>\n",
       "      <td>0.79</td>\n",
       "    </tr>\n",
       "    <tr>\n",
       "      <th>2</th>\n",
       "      <td>0.626111</td>\n",
       "      <td>0.34</td>\n",
       "      <td>0.90</td>\n",
       "    </tr>\n",
       "    <tr>\n",
       "      <th>3</th>\n",
       "      <td>0.702901</td>\n",
       "      <td>0.36</td>\n",
       "      <td>0.90</td>\n",
       "    </tr>\n",
       "    <tr>\n",
       "      <th>4</th>\n",
       "      <td>0.801619</td>\n",
       "      <td>0.42</td>\n",
       "      <td>0.97</td>\n",
       "    </tr>\n",
       "    <tr>\n",
       "      <th>5</th>\n",
       "      <td>0.888082</td>\n",
       "      <td>0.61</td>\n",
       "      <td>0.97</td>\n",
       "    </tr>\n",
       "  </tbody>\n",
       "</table>\n",
       "</div>"
      ],
      "text/plain": [
       "                  Chance of Admit             \n",
       "                              mean   min   max\n",
       "University Rating                             \n",
       "1                         0.562059  0.36  0.79\n",
       "2                         0.626111  0.34  0.90\n",
       "3                         0.702901  0.36  0.90\n",
       "4                         0.801619  0.42  0.97\n",
       "5                         0.888082  0.61  0.97"
      ]
     },
     "execution_count": 31,
     "metadata": {},
     "output_type": "execute_result"
    }
   ],
   "source": [
    "df.groupby('University Rating').agg({'Chance of Admit ':['mean','min','max']})"
   ]
  },
  {
   "cell_type": "markdown",
   "id": "d377bdde",
   "metadata": {
    "papermill": {
     "duration": 0.027814,
     "end_time": "2022-09-15T08:41:41.203771",
     "exception": false,
     "start_time": "2022-09-15T08:41:41.175957",
     "status": "completed"
    },
    "tags": []
   },
   "source": [
    "We also seen in the plot, so higher the University rating greater the chances of Admit. Still there are some students in higher rating Universities who had less chances of admit"
   ]
  },
  {
   "cell_type": "code",
   "execution_count": 32,
   "id": "6f63460d",
   "metadata": {
    "execution": {
     "iopub.execute_input": "2022-09-15T08:41:41.262473Z",
     "iopub.status.busy": "2022-09-15T08:41:41.261714Z",
     "iopub.status.idle": "2022-09-15T08:41:41.279959Z",
     "shell.execute_reply": "2022-09-15T08:41:41.279106Z"
    },
    "papermill": {
     "duration": 0.050229,
     "end_time": "2022-09-15T08:41:41.282114",
     "exception": false,
     "start_time": "2022-09-15T08:41:41.231885",
     "status": "completed"
    },
    "tags": []
   },
   "outputs": [
    {
     "data": {
      "text/html": [
       "<div>\n",
       "<style scoped>\n",
       "    .dataframe tbody tr th:only-of-type {\n",
       "        vertical-align: middle;\n",
       "    }\n",
       "\n",
       "    .dataframe tbody tr th {\n",
       "        vertical-align: top;\n",
       "    }\n",
       "\n",
       "    .dataframe thead th {\n",
       "        text-align: right;\n",
       "    }\n",
       "</style>\n",
       "<table border=\"1\" class=\"dataframe\">\n",
       "  <thead>\n",
       "    <tr style=\"text-align: right;\">\n",
       "      <th></th>\n",
       "      <th>GRE Score</th>\n",
       "      <th>TOEFL Score</th>\n",
       "      <th>University Rating</th>\n",
       "      <th>SOP</th>\n",
       "      <th>LOR</th>\n",
       "      <th>CGPA</th>\n",
       "      <th>Research</th>\n",
       "      <th>Chance of Admit</th>\n",
       "    </tr>\n",
       "  </thead>\n",
       "  <tbody>\n",
       "    <tr>\n",
       "      <th>406</th>\n",
       "      <td>322</td>\n",
       "      <td>103</td>\n",
       "      <td>4</td>\n",
       "      <td>3.0</td>\n",
       "      <td>2.5</td>\n",
       "      <td>8.02</td>\n",
       "      <td>1</td>\n",
       "      <td>0.61</td>\n",
       "    </tr>\n",
       "    <tr>\n",
       "      <th>412</th>\n",
       "      <td>314</td>\n",
       "      <td>102</td>\n",
       "      <td>4</td>\n",
       "      <td>2.5</td>\n",
       "      <td>2.0</td>\n",
       "      <td>7.88</td>\n",
       "      <td>1</td>\n",
       "      <td>0.59</td>\n",
       "    </tr>\n",
       "    <tr>\n",
       "      <th>122</th>\n",
       "      <td>310</td>\n",
       "      <td>106</td>\n",
       "      <td>4</td>\n",
       "      <td>1.5</td>\n",
       "      <td>2.5</td>\n",
       "      <td>8.36</td>\n",
       "      <td>0</td>\n",
       "      <td>0.57</td>\n",
       "    </tr>\n",
       "    <tr>\n",
       "      <th>124</th>\n",
       "      <td>301</td>\n",
       "      <td>106</td>\n",
       "      <td>4</td>\n",
       "      <td>2.5</td>\n",
       "      <td>3.0</td>\n",
       "      <td>8.47</td>\n",
       "      <td>0</td>\n",
       "      <td>0.57</td>\n",
       "    </tr>\n",
       "    <tr>\n",
       "      <th>65</th>\n",
       "      <td>325</td>\n",
       "      <td>112</td>\n",
       "      <td>4</td>\n",
       "      <td>3.5</td>\n",
       "      <td>3.5</td>\n",
       "      <td>8.92</td>\n",
       "      <td>0</td>\n",
       "      <td>0.55</td>\n",
       "    </tr>\n",
       "    <tr>\n",
       "      <th>465</th>\n",
       "      <td>305</td>\n",
       "      <td>96</td>\n",
       "      <td>4</td>\n",
       "      <td>3.0</td>\n",
       "      <td>4.5</td>\n",
       "      <td>8.26</td>\n",
       "      <td>0</td>\n",
       "      <td>0.54</td>\n",
       "    </tr>\n",
       "    <tr>\n",
       "      <th>491</th>\n",
       "      <td>297</td>\n",
       "      <td>99</td>\n",
       "      <td>4</td>\n",
       "      <td>3.0</td>\n",
       "      <td>3.5</td>\n",
       "      <td>7.81</td>\n",
       "      <td>0</td>\n",
       "      <td>0.54</td>\n",
       "    </tr>\n",
       "    <tr>\n",
       "      <th>492</th>\n",
       "      <td>298</td>\n",
       "      <td>101</td>\n",
       "      <td>4</td>\n",
       "      <td>2.5</td>\n",
       "      <td>4.5</td>\n",
       "      <td>7.69</td>\n",
       "      <td>1</td>\n",
       "      <td>0.53</td>\n",
       "    </tr>\n",
       "    <tr>\n",
       "      <th>117</th>\n",
       "      <td>290</td>\n",
       "      <td>104</td>\n",
       "      <td>4</td>\n",
       "      <td>2.0</td>\n",
       "      <td>2.5</td>\n",
       "      <td>7.46</td>\n",
       "      <td>0</td>\n",
       "      <td>0.45</td>\n",
       "    </tr>\n",
       "    <tr>\n",
       "      <th>95</th>\n",
       "      <td>304</td>\n",
       "      <td>100</td>\n",
       "      <td>4</td>\n",
       "      <td>1.5</td>\n",
       "      <td>2.5</td>\n",
       "      <td>7.84</td>\n",
       "      <td>0</td>\n",
       "      <td>0.42</td>\n",
       "    </tr>\n",
       "  </tbody>\n",
       "</table>\n",
       "</div>"
      ],
      "text/plain": [
       "     GRE Score  TOEFL Score  University Rating  SOP  LOR   CGPA  Research  \\\n",
       "406        322          103                  4  3.0   2.5  8.02         1   \n",
       "412        314          102                  4  2.5   2.0  7.88         1   \n",
       "122        310          106                  4  1.5   2.5  8.36         0   \n",
       "124        301          106                  4  2.5   3.0  8.47         0   \n",
       "65         325          112                  4  3.5   3.5  8.92         0   \n",
       "465        305           96                  4  3.0   4.5  8.26         0   \n",
       "491        297           99                  4  3.0   3.5  7.81         0   \n",
       "492        298          101                  4  2.5   4.5  7.69         1   \n",
       "117        290          104                  4  2.0   2.5  7.46         0   \n",
       "95         304          100                  4  1.5   2.5  7.84         0   \n",
       "\n",
       "     Chance of Admit   \n",
       "406              0.61  \n",
       "412              0.59  \n",
       "122              0.57  \n",
       "124              0.57  \n",
       "65               0.55  \n",
       "465              0.54  \n",
       "491              0.54  \n",
       "492              0.53  \n",
       "117              0.45  \n",
       "95               0.42  "
      ]
     },
     "execution_count": 32,
     "metadata": {},
     "output_type": "execute_result"
    }
   ],
   "source": [
    "df[(df['University Rating']>=4) & (df['Chance of Admit ']<0.8)].sort_values('Chance of Admit ',ascending=False).tail(10)"
   ]
  },
  {
   "cell_type": "markdown",
   "id": "bcefab2c",
   "metadata": {
    "papermill": {
     "duration": 0.02847,
     "end_time": "2022-09-15T08:41:41.338706",
     "exception": false,
     "start_time": "2022-09-15T08:41:41.310236",
     "status": "completed"
    },
    "tags": []
   },
   "source": [
    "As we see these are the poor profiles, so chances of getting the admit is difficult in these higher universities"
   ]
  },
  {
   "cell_type": "markdown",
   "id": "c0598e6d",
   "metadata": {
    "papermill": {
     "duration": 0.028121,
     "end_time": "2022-09-15T08:41:41.394805",
     "exception": false,
     "start_time": "2022-09-15T08:41:41.366684",
     "status": "completed"
    },
    "tags": []
   },
   "source": [
    "## CGPA, GRE, TOFEL"
   ]
  },
  {
   "cell_type": "code",
   "execution_count": 33,
   "id": "9a693bcb",
   "metadata": {
    "execution": {
     "iopub.execute_input": "2022-09-15T08:41:41.453936Z",
     "iopub.status.busy": "2022-09-15T08:41:41.453175Z",
     "iopub.status.idle": "2022-09-15T08:41:41.468697Z",
     "shell.execute_reply": "2022-09-15T08:41:41.467217Z"
    },
    "papermill": {
     "duration": 0.048175,
     "end_time": "2022-09-15T08:41:41.471285",
     "exception": false,
     "start_time": "2022-09-15T08:41:41.423110",
     "status": "completed"
    },
    "tags": []
   },
   "outputs": [
    {
     "data": {
      "text/html": [
       "<div>\n",
       "<style scoped>\n",
       "    .dataframe tbody tr th:only-of-type {\n",
       "        vertical-align: middle;\n",
       "    }\n",
       "\n",
       "    .dataframe tbody tr th {\n",
       "        vertical-align: top;\n",
       "    }\n",
       "\n",
       "    .dataframe thead th {\n",
       "        text-align: right;\n",
       "    }\n",
       "</style>\n",
       "<table border=\"1\" class=\"dataframe\">\n",
       "  <thead>\n",
       "    <tr style=\"text-align: right;\">\n",
       "      <th></th>\n",
       "      <th>GRE Score</th>\n",
       "      <th>TOEFL Score</th>\n",
       "      <th>University Rating</th>\n",
       "      <th>SOP</th>\n",
       "      <th>LOR</th>\n",
       "      <th>CGPA</th>\n",
       "      <th>Research</th>\n",
       "      <th>Chance of Admit</th>\n",
       "    </tr>\n",
       "  </thead>\n",
       "  <tbody>\n",
       "    <tr>\n",
       "      <th>484</th>\n",
       "      <td>317</td>\n",
       "      <td>106</td>\n",
       "      <td>3</td>\n",
       "      <td>3.5</td>\n",
       "      <td>3.0</td>\n",
       "      <td>7.89</td>\n",
       "      <td>1</td>\n",
       "      <td>0.73</td>\n",
       "    </tr>\n",
       "    <tr>\n",
       "      <th>483</th>\n",
       "      <td>304</td>\n",
       "      <td>103</td>\n",
       "      <td>5</td>\n",
       "      <td>5.0</td>\n",
       "      <td>3.0</td>\n",
       "      <td>7.92</td>\n",
       "      <td>0</td>\n",
       "      <td>0.71</td>\n",
       "    </tr>\n",
       "    <tr>\n",
       "      <th>358</th>\n",
       "      <td>314</td>\n",
       "      <td>105</td>\n",
       "      <td>2</td>\n",
       "      <td>2.5</td>\n",
       "      <td>2.0</td>\n",
       "      <td>7.64</td>\n",
       "      <td>0</td>\n",
       "      <td>0.70</td>\n",
       "    </tr>\n",
       "  </tbody>\n",
       "</table>\n",
       "</div>"
      ],
      "text/plain": [
       "     GRE Score  TOEFL Score  University Rating  SOP  LOR   CGPA  Research  \\\n",
       "484        317          106                  3  3.5   3.0  7.89         1   \n",
       "483        304          103                  5  5.0   3.0  7.92         0   \n",
       "358        314          105                  2  2.5   2.0  7.64         0   \n",
       "\n",
       "     Chance of Admit   \n",
       "484              0.73  \n",
       "483              0.71  \n",
       "358              0.70  "
      ]
     },
     "execution_count": 33,
     "metadata": {},
     "output_type": "execute_result"
    }
   ],
   "source": [
    "#checking CGPA less than 8 and still getting admit high\n",
    "df[(df['CGPA']<8)].sort_values('Chance of Admit ',ascending=False).head(3)"
   ]
  },
  {
   "cell_type": "code",
   "execution_count": 34,
   "id": "64daf60f",
   "metadata": {
    "execution": {
     "iopub.execute_input": "2022-09-15T08:41:41.532708Z",
     "iopub.status.busy": "2022-09-15T08:41:41.532145Z",
     "iopub.status.idle": "2022-09-15T08:41:41.551009Z",
     "shell.execute_reply": "2022-09-15T08:41:41.550190Z"
    },
    "papermill": {
     "duration": 0.053091,
     "end_time": "2022-09-15T08:41:41.553189",
     "exception": false,
     "start_time": "2022-09-15T08:41:41.500098",
     "status": "completed"
    },
    "tags": []
   },
   "outputs": [
    {
     "data": {
      "text/html": [
       "<div>\n",
       "<style scoped>\n",
       "    .dataframe tbody tr th:only-of-type {\n",
       "        vertical-align: middle;\n",
       "    }\n",
       "\n",
       "    .dataframe tbody tr th {\n",
       "        vertical-align: top;\n",
       "    }\n",
       "\n",
       "    .dataframe thead th {\n",
       "        text-align: right;\n",
       "    }\n",
       "</style>\n",
       "<table border=\"1\" class=\"dataframe\">\n",
       "  <thead>\n",
       "    <tr style=\"text-align: right;\">\n",
       "      <th></th>\n",
       "      <th>GRE Score</th>\n",
       "      <th>TOEFL Score</th>\n",
       "      <th>University Rating</th>\n",
       "      <th>SOP</th>\n",
       "      <th>LOR</th>\n",
       "      <th>CGPA</th>\n",
       "      <th>Research</th>\n",
       "      <th>Chance of Admit</th>\n",
       "    </tr>\n",
       "  </thead>\n",
       "  <tbody>\n",
       "    <tr>\n",
       "      <th>202</th>\n",
       "      <td>340</td>\n",
       "      <td>120</td>\n",
       "      <td>5</td>\n",
       "      <td>4.5</td>\n",
       "      <td>4.5</td>\n",
       "      <td>9.91</td>\n",
       "      <td>1</td>\n",
       "      <td>0.97</td>\n",
       "    </tr>\n",
       "    <tr>\n",
       "      <th>143</th>\n",
       "      <td>340</td>\n",
       "      <td>120</td>\n",
       "      <td>4</td>\n",
       "      <td>4.5</td>\n",
       "      <td>4.0</td>\n",
       "      <td>9.92</td>\n",
       "      <td>1</td>\n",
       "      <td>0.97</td>\n",
       "    </tr>\n",
       "    <tr>\n",
       "      <th>24</th>\n",
       "      <td>336</td>\n",
       "      <td>119</td>\n",
       "      <td>5</td>\n",
       "      <td>4.0</td>\n",
       "      <td>3.5</td>\n",
       "      <td>9.80</td>\n",
       "      <td>1</td>\n",
       "      <td>0.97</td>\n",
       "    </tr>\n",
       "  </tbody>\n",
       "</table>\n",
       "</div>"
      ],
      "text/plain": [
       "     GRE Score  TOEFL Score  University Rating  SOP  LOR   CGPA  Research  \\\n",
       "202        340          120                  5  4.5   4.5  9.91         1   \n",
       "143        340          120                  4  4.5   4.0  9.92         1   \n",
       "24         336          119                  5  4.0   3.5  9.80         1   \n",
       "\n",
       "     Chance of Admit   \n",
       "202              0.97  \n",
       "143              0.97  \n",
       "24               0.97  "
      ]
     },
     "execution_count": 34,
     "metadata": {},
     "output_type": "execute_result"
    }
   ],
   "source": [
    "#checking CGPA less than 8 and still getting admit high\n",
    "df[(df['CGPA']<85)].sort_values('Chance of Admit ',ascending=False).head(3)"
   ]
  },
  {
   "cell_type": "markdown",
   "id": "0076d820",
   "metadata": {
    "papermill": {
     "duration": 0.036788,
     "end_time": "2022-09-15T08:41:41.627418",
     "exception": false,
     "start_time": "2022-09-15T08:41:41.590630",
     "status": "completed"
    },
    "tags": []
   },
   "source": [
    "So one student should have minimum of 8.5 CGPA to get admit. But it also depends on other factors such as GRE, TOFEL..etc., There are some students who have high CGPA and having low GRE and TOEFL score and have less chances of admit"
   ]
  },
  {
   "cell_type": "code",
   "execution_count": 35,
   "id": "f3d63f11",
   "metadata": {
    "execution": {
     "iopub.execute_input": "2022-09-15T08:41:41.687224Z",
     "iopub.status.busy": "2022-09-15T08:41:41.686101Z",
     "iopub.status.idle": "2022-09-15T08:41:41.702431Z",
     "shell.execute_reply": "2022-09-15T08:41:41.701211Z"
    },
    "papermill": {
     "duration": 0.04864,
     "end_time": "2022-09-15T08:41:41.704902",
     "exception": false,
     "start_time": "2022-09-15T08:41:41.656262",
     "status": "completed"
    },
    "tags": []
   },
   "outputs": [
    {
     "data": {
      "text/html": [
       "<div>\n",
       "<style scoped>\n",
       "    .dataframe tbody tr th:only-of-type {\n",
       "        vertical-align: middle;\n",
       "    }\n",
       "\n",
       "    .dataframe tbody tr th {\n",
       "        vertical-align: top;\n",
       "    }\n",
       "\n",
       "    .dataframe thead th {\n",
       "        text-align: right;\n",
       "    }\n",
       "</style>\n",
       "<table border=\"1\" class=\"dataframe\">\n",
       "  <thead>\n",
       "    <tr style=\"text-align: right;\">\n",
       "      <th></th>\n",
       "      <th>GRE Score</th>\n",
       "      <th>TOEFL Score</th>\n",
       "      <th>University Rating</th>\n",
       "      <th>SOP</th>\n",
       "      <th>LOR</th>\n",
       "      <th>CGPA</th>\n",
       "      <th>Research</th>\n",
       "      <th>Chance of Admit</th>\n",
       "    </tr>\n",
       "  </thead>\n",
       "  <tbody>\n",
       "    <tr>\n",
       "      <th>179</th>\n",
       "      <td>307</td>\n",
       "      <td>102</td>\n",
       "      <td>3</td>\n",
       "      <td>3.0</td>\n",
       "      <td>3.0</td>\n",
       "      <td>8.27</td>\n",
       "      <td>0</td>\n",
       "      <td>0.73</td>\n",
       "    </tr>\n",
       "    <tr>\n",
       "      <th>483</th>\n",
       "      <td>304</td>\n",
       "      <td>103</td>\n",
       "      <td>5</td>\n",
       "      <td>5.0</td>\n",
       "      <td>3.0</td>\n",
       "      <td>7.92</td>\n",
       "      <td>0</td>\n",
       "      <td>0.71</td>\n",
       "    </tr>\n",
       "    <tr>\n",
       "      <th>180</th>\n",
       "      <td>300</td>\n",
       "      <td>104</td>\n",
       "      <td>3</td>\n",
       "      <td>3.5</td>\n",
       "      <td>3.0</td>\n",
       "      <td>8.16</td>\n",
       "      <td>0</td>\n",
       "      <td>0.71</td>\n",
       "    </tr>\n",
       "  </tbody>\n",
       "</table>\n",
       "</div>"
      ],
      "text/plain": [
       "     GRE Score  TOEFL Score  University Rating  SOP  LOR   CGPA  Research  \\\n",
       "179        307          102                  3  3.0   3.0  8.27         0   \n",
       "483        304          103                  5  5.0   3.0  7.92         0   \n",
       "180        300          104                  3  3.5   3.0  8.16         0   \n",
       "\n",
       "     Chance of Admit   \n",
       "179              0.73  \n",
       "483              0.71  \n",
       "180              0.71  "
      ]
     },
     "execution_count": 35,
     "metadata": {},
     "output_type": "execute_result"
    }
   ],
   "source": [
    "df[(df['GRE Score']<310) & (df['TOEFL Score']<105) & ((df['CGPA']<8.5))].sort_values('Chance of Admit ',ascending=False).head(3)"
   ]
  },
  {
   "cell_type": "code",
   "execution_count": 36,
   "id": "475e4607",
   "metadata": {
    "execution": {
     "iopub.execute_input": "2022-09-15T08:41:41.765403Z",
     "iopub.status.busy": "2022-09-15T08:41:41.764980Z",
     "iopub.status.idle": "2022-09-15T08:41:41.801701Z",
     "shell.execute_reply": "2022-09-15T08:41:41.800490Z"
    },
    "papermill": {
     "duration": 0.070309,
     "end_time": "2022-09-15T08:41:41.804462",
     "exception": false,
     "start_time": "2022-09-15T08:41:41.734153",
     "status": "completed"
    },
    "tags": []
   },
   "outputs": [
    {
     "data": {
      "text/html": [
       "<div>\n",
       "<style scoped>\n",
       "    .dataframe tbody tr th:only-of-type {\n",
       "        vertical-align: middle;\n",
       "    }\n",
       "\n",
       "    .dataframe tbody tr th {\n",
       "        vertical-align: top;\n",
       "    }\n",
       "\n",
       "    .dataframe thead tr th {\n",
       "        text-align: left;\n",
       "    }\n",
       "\n",
       "    .dataframe thead tr:last-of-type th {\n",
       "        text-align: right;\n",
       "    }\n",
       "</style>\n",
       "<table border=\"1\" class=\"dataframe\">\n",
       "  <thead>\n",
       "    <tr>\n",
       "      <th></th>\n",
       "      <th colspan=\"3\" halign=\"left\">GRE Score</th>\n",
       "      <th colspan=\"3\" halign=\"left\">TOEFL Score</th>\n",
       "      <th colspan=\"3\" halign=\"left\">CGPA</th>\n",
       "    </tr>\n",
       "    <tr>\n",
       "      <th></th>\n",
       "      <th>mean</th>\n",
       "      <th>min</th>\n",
       "      <th>max</th>\n",
       "      <th>mean</th>\n",
       "      <th>min</th>\n",
       "      <th>max</th>\n",
       "      <th>mean</th>\n",
       "      <th>min</th>\n",
       "      <th>max</th>\n",
       "    </tr>\n",
       "    <tr>\n",
       "      <th>Chance of Admit</th>\n",
       "      <th></th>\n",
       "      <th></th>\n",
       "      <th></th>\n",
       "      <th></th>\n",
       "      <th></th>\n",
       "      <th></th>\n",
       "      <th></th>\n",
       "      <th></th>\n",
       "      <th></th>\n",
       "    </tr>\n",
       "  </thead>\n",
       "  <tbody>\n",
       "    <tr>\n",
       "      <th>0.97</th>\n",
       "      <td>337.500000</td>\n",
       "      <td>334</td>\n",
       "      <td>340</td>\n",
       "      <td>119.750000</td>\n",
       "      <td>119</td>\n",
       "      <td>120</td>\n",
       "      <td>9.875000</td>\n",
       "      <td>9.80</td>\n",
       "      <td>9.92</td>\n",
       "    </tr>\n",
       "    <tr>\n",
       "      <th>0.96</th>\n",
       "      <td>337.375000</td>\n",
       "      <td>333</td>\n",
       "      <td>340</td>\n",
       "      <td>116.000000</td>\n",
       "      <td>112</td>\n",
       "      <td>120</td>\n",
       "      <td>9.753750</td>\n",
       "      <td>9.50</td>\n",
       "      <td>9.87</td>\n",
       "    </tr>\n",
       "    <tr>\n",
       "      <th>0.95</th>\n",
       "      <td>336.200000</td>\n",
       "      <td>333</td>\n",
       "      <td>340</td>\n",
       "      <td>118.000000</td>\n",
       "      <td>115</td>\n",
       "      <td>120</td>\n",
       "      <td>9.540000</td>\n",
       "      <td>9.06</td>\n",
       "      <td>9.70</td>\n",
       "    </tr>\n",
       "    <tr>\n",
       "      <th>0.94</th>\n",
       "      <td>334.230769</td>\n",
       "      <td>328</td>\n",
       "      <td>340</td>\n",
       "      <td>116.692308</td>\n",
       "      <td>112</td>\n",
       "      <td>120</td>\n",
       "      <td>9.533077</td>\n",
       "      <td>9.28</td>\n",
       "      <td>9.80</td>\n",
       "    </tr>\n",
       "    <tr>\n",
       "      <th>0.93</th>\n",
       "      <td>330.583333</td>\n",
       "      <td>321</td>\n",
       "      <td>335</td>\n",
       "      <td>115.916667</td>\n",
       "      <td>111</td>\n",
       "      <td>120</td>\n",
       "      <td>9.477500</td>\n",
       "      <td>9.26</td>\n",
       "      <td>9.68</td>\n",
       "    </tr>\n",
       "    <tr>\n",
       "      <th>0.92</th>\n",
       "      <td>328.555556</td>\n",
       "      <td>320</td>\n",
       "      <td>337</td>\n",
       "      <td>114.888889</td>\n",
       "      <td>110</td>\n",
       "      <td>118</td>\n",
       "      <td>9.417778</td>\n",
       "      <td>9.19</td>\n",
       "      <td>9.86</td>\n",
       "    </tr>\n",
       "    <tr>\n",
       "      <th>0.91</th>\n",
       "      <td>330.500000</td>\n",
       "      <td>322</td>\n",
       "      <td>338</td>\n",
       "      <td>115.000000</td>\n",
       "      <td>112</td>\n",
       "      <td>118</td>\n",
       "      <td>9.328000</td>\n",
       "      <td>9.08</td>\n",
       "      <td>9.46</td>\n",
       "    </tr>\n",
       "    <tr>\n",
       "      <th>0.90</th>\n",
       "      <td>330.555556</td>\n",
       "      <td>324</td>\n",
       "      <td>340</td>\n",
       "      <td>116.111111</td>\n",
       "      <td>111</td>\n",
       "      <td>119</td>\n",
       "      <td>9.324444</td>\n",
       "      <td>9.16</td>\n",
       "      <td>9.60</td>\n",
       "    </tr>\n",
       "    <tr>\n",
       "      <th>0.89</th>\n",
       "      <td>328.636364</td>\n",
       "      <td>323</td>\n",
       "      <td>339</td>\n",
       "      <td>113.545455</td>\n",
       "      <td>110</td>\n",
       "      <td>119</td>\n",
       "      <td>9.270909</td>\n",
       "      <td>9.07</td>\n",
       "      <td>9.70</td>\n",
       "    </tr>\n",
       "    <tr>\n",
       "      <th>0.88</th>\n",
       "      <td>323.000000</td>\n",
       "      <td>320</td>\n",
       "      <td>326</td>\n",
       "      <td>110.750000</td>\n",
       "      <td>110</td>\n",
       "      <td>112</td>\n",
       "      <td>9.152500</td>\n",
       "      <td>9.08</td>\n",
       "      <td>9.23</td>\n",
       "    </tr>\n",
       "    <tr>\n",
       "      <th>0.87</th>\n",
       "      <td>325.625000</td>\n",
       "      <td>320</td>\n",
       "      <td>332</td>\n",
       "      <td>111.125000</td>\n",
       "      <td>108</td>\n",
       "      <td>117</td>\n",
       "      <td>9.101250</td>\n",
       "      <td>8.97</td>\n",
       "      <td>9.27</td>\n",
       "    </tr>\n",
       "    <tr>\n",
       "      <th>0.86</th>\n",
       "      <td>325.400000</td>\n",
       "      <td>320</td>\n",
       "      <td>331</td>\n",
       "      <td>114.400000</td>\n",
       "      <td>110</td>\n",
       "      <td>120</td>\n",
       "      <td>9.124000</td>\n",
       "      <td>8.94</td>\n",
       "      <td>9.30</td>\n",
       "    </tr>\n",
       "    <tr>\n",
       "      <th>0.85</th>\n",
       "      <td>322.000000</td>\n",
       "      <td>320</td>\n",
       "      <td>325</td>\n",
       "      <td>111.500000</td>\n",
       "      <td>109</td>\n",
       "      <td>114</td>\n",
       "      <td>9.041667</td>\n",
       "      <td>8.64</td>\n",
       "      <td>9.32</td>\n",
       "    </tr>\n",
       "    <tr>\n",
       "      <th>0.84</th>\n",
       "      <td>323.909091</td>\n",
       "      <td>314</td>\n",
       "      <td>329</td>\n",
       "      <td>109.636364</td>\n",
       "      <td>107</td>\n",
       "      <td>113</td>\n",
       "      <td>9.032727</td>\n",
       "      <td>8.68</td>\n",
       "      <td>9.18</td>\n",
       "    </tr>\n",
       "    <tr>\n",
       "      <th>0.83</th>\n",
       "      <td>326.500000</td>\n",
       "      <td>325</td>\n",
       "      <td>328</td>\n",
       "      <td>112.750000</td>\n",
       "      <td>111</td>\n",
       "      <td>114</td>\n",
       "      <td>9.032500</td>\n",
       "      <td>8.77</td>\n",
       "      <td>9.14</td>\n",
       "    </tr>\n",
       "    <tr>\n",
       "      <th>0.82</th>\n",
       "      <td>320.888889</td>\n",
       "      <td>314</td>\n",
       "      <td>328</td>\n",
       "      <td>109.555556</td>\n",
       "      <td>104</td>\n",
       "      <td>112</td>\n",
       "      <td>8.986667</td>\n",
       "      <td>8.77</td>\n",
       "      <td>9.15</td>\n",
       "    </tr>\n",
       "    <tr>\n",
       "      <th>0.81</th>\n",
       "      <td>323.125000</td>\n",
       "      <td>312</td>\n",
       "      <td>329</td>\n",
       "      <td>110.125000</td>\n",
       "      <td>106</td>\n",
       "      <td>116</td>\n",
       "      <td>8.860000</td>\n",
       "      <td>8.64</td>\n",
       "      <td>9.14</td>\n",
       "    </tr>\n",
       "    <tr>\n",
       "      <th>0.80</th>\n",
       "      <td>322.846154</td>\n",
       "      <td>312</td>\n",
       "      <td>327</td>\n",
       "      <td>110.615385</td>\n",
       "      <td>102</td>\n",
       "      <td>116</td>\n",
       "      <td>8.894615</td>\n",
       "      <td>8.66</td>\n",
       "      <td>9.11</td>\n",
       "    </tr>\n",
       "    <tr>\n",
       "      <th>0.79</th>\n",
       "      <td>323.428571</td>\n",
       "      <td>313</td>\n",
       "      <td>332</td>\n",
       "      <td>109.571429</td>\n",
       "      <td>101</td>\n",
       "      <td>115</td>\n",
       "      <td>8.880714</td>\n",
       "      <td>8.54</td>\n",
       "      <td>9.14</td>\n",
       "    </tr>\n",
       "    <tr>\n",
       "      <th>0.78</th>\n",
       "      <td>320.250000</td>\n",
       "      <td>307</td>\n",
       "      <td>328</td>\n",
       "      <td>108.000000</td>\n",
       "      <td>100</td>\n",
       "      <td>115</td>\n",
       "      <td>8.895000</td>\n",
       "      <td>8.52</td>\n",
       "      <td>9.16</td>\n",
       "    </tr>\n",
       "  </tbody>\n",
       "</table>\n",
       "</div>"
      ],
      "text/plain": [
       "                   GRE Score           TOEFL Score                CGPA        \\\n",
       "                        mean  min  max        mean  min  max      mean   min   \n",
       "Chance of Admit                                                                \n",
       "0.97              337.500000  334  340  119.750000  119  120  9.875000  9.80   \n",
       "0.96              337.375000  333  340  116.000000  112  120  9.753750  9.50   \n",
       "0.95              336.200000  333  340  118.000000  115  120  9.540000  9.06   \n",
       "0.94              334.230769  328  340  116.692308  112  120  9.533077  9.28   \n",
       "0.93              330.583333  321  335  115.916667  111  120  9.477500  9.26   \n",
       "0.92              328.555556  320  337  114.888889  110  118  9.417778  9.19   \n",
       "0.91              330.500000  322  338  115.000000  112  118  9.328000  9.08   \n",
       "0.90              330.555556  324  340  116.111111  111  119  9.324444  9.16   \n",
       "0.89              328.636364  323  339  113.545455  110  119  9.270909  9.07   \n",
       "0.88              323.000000  320  326  110.750000  110  112  9.152500  9.08   \n",
       "0.87              325.625000  320  332  111.125000  108  117  9.101250  8.97   \n",
       "0.86              325.400000  320  331  114.400000  110  120  9.124000  8.94   \n",
       "0.85              322.000000  320  325  111.500000  109  114  9.041667  8.64   \n",
       "0.84              323.909091  314  329  109.636364  107  113  9.032727  8.68   \n",
       "0.83              326.500000  325  328  112.750000  111  114  9.032500  8.77   \n",
       "0.82              320.888889  314  328  109.555556  104  112  8.986667  8.77   \n",
       "0.81              323.125000  312  329  110.125000  106  116  8.860000  8.64   \n",
       "0.80              322.846154  312  327  110.615385  102  116  8.894615  8.66   \n",
       "0.79              323.428571  313  332  109.571429  101  115  8.880714  8.54   \n",
       "0.78              320.250000  307  328  108.000000  100  115  8.895000  8.52   \n",
       "\n",
       "                        \n",
       "                   max  \n",
       "Chance of Admit         \n",
       "0.97              9.92  \n",
       "0.96              9.87  \n",
       "0.95              9.70  \n",
       "0.94              9.80  \n",
       "0.93              9.68  \n",
       "0.92              9.86  \n",
       "0.91              9.46  \n",
       "0.90              9.60  \n",
       "0.89              9.70  \n",
       "0.88              9.23  \n",
       "0.87              9.27  \n",
       "0.86              9.30  \n",
       "0.85              9.32  \n",
       "0.84              9.18  \n",
       "0.83              9.14  \n",
       "0.82              9.15  \n",
       "0.81              9.14  \n",
       "0.80              9.11  \n",
       "0.79              9.14  \n",
       "0.78              9.16  "
      ]
     },
     "execution_count": 36,
     "metadata": {},
     "output_type": "execute_result"
    }
   ],
   "source": [
    "df[df['CGPA']>8.5].groupby('Chance of Admit ').agg({'GRE Score':['mean','min','max'],'TOEFL Score':['mean','min','max'],'CGPA':['mean','min','max']}).sort_values('Chance of Admit ',ascending=False).head(20)"
   ]
  },
  {
   "cell_type": "markdown",
   "id": "9d22b2db",
   "metadata": {
    "papermill": {
     "duration": 0.028968,
     "end_time": "2022-09-15T08:41:41.862631",
     "exception": false,
     "start_time": "2022-09-15T08:41:41.833663",
     "status": "completed"
    },
    "tags": []
   },
   "source": [
    "From this, we can clearly say that if you have GRE>320 and TOEFL>110 and CGPA>8.5 you definitely have a admit. It also basically tells that student have great profile and good strength of LOR and SOP. Le us confirm that."
   ]
  },
  {
   "cell_type": "markdown",
   "id": "57e29753",
   "metadata": {
    "papermill": {
     "duration": 0.028924,
     "end_time": "2022-09-15T08:41:41.920589",
     "exception": false,
     "start_time": "2022-09-15T08:41:41.891665",
     "status": "completed"
    },
    "tags": []
   },
   "source": [
    "# LOR and SOP"
   ]
  },
  {
   "cell_type": "code",
   "execution_count": 37,
   "id": "80af8714",
   "metadata": {
    "execution": {
     "iopub.execute_input": "2022-09-15T08:41:41.980468Z",
     "iopub.status.busy": "2022-09-15T08:41:41.980077Z",
     "iopub.status.idle": "2022-09-15T08:41:41.999552Z",
     "shell.execute_reply": "2022-09-15T08:41:41.998706Z"
    },
    "papermill": {
     "duration": 0.052895,
     "end_time": "2022-09-15T08:41:42.002438",
     "exception": false,
     "start_time": "2022-09-15T08:41:41.949543",
     "status": "completed"
    },
    "tags": []
   },
   "outputs": [
    {
     "data": {
      "text/html": [
       "<div>\n",
       "<style scoped>\n",
       "    .dataframe tbody tr th:only-of-type {\n",
       "        vertical-align: middle;\n",
       "    }\n",
       "\n",
       "    .dataframe tbody tr th {\n",
       "        vertical-align: top;\n",
       "    }\n",
       "\n",
       "    .dataframe thead th {\n",
       "        text-align: right;\n",
       "    }\n",
       "</style>\n",
       "<table border=\"1\" class=\"dataframe\">\n",
       "  <thead>\n",
       "    <tr style=\"text-align: right;\">\n",
       "      <th></th>\n",
       "      <th>GRE Score</th>\n",
       "      <th>TOEFL Score</th>\n",
       "      <th>University Rating</th>\n",
       "      <th>SOP</th>\n",
       "      <th>LOR</th>\n",
       "      <th>CGPA</th>\n",
       "      <th>Research</th>\n",
       "      <th>Chance of Admit</th>\n",
       "    </tr>\n",
       "  </thead>\n",
       "  <tbody>\n",
       "    <tr>\n",
       "      <th>203</th>\n",
       "      <td>334</td>\n",
       "      <td>120</td>\n",
       "      <td>5</td>\n",
       "      <td>4.0</td>\n",
       "      <td>5.0</td>\n",
       "      <td>9.87</td>\n",
       "      <td>1</td>\n",
       "      <td>0.97</td>\n",
       "    </tr>\n",
       "    <tr>\n",
       "      <th>202</th>\n",
       "      <td>340</td>\n",
       "      <td>120</td>\n",
       "      <td>5</td>\n",
       "      <td>4.5</td>\n",
       "      <td>4.5</td>\n",
       "      <td>9.91</td>\n",
       "      <td>1</td>\n",
       "      <td>0.97</td>\n",
       "    </tr>\n",
       "    <tr>\n",
       "      <th>24</th>\n",
       "      <td>336</td>\n",
       "      <td>119</td>\n",
       "      <td>5</td>\n",
       "      <td>4.0</td>\n",
       "      <td>3.5</td>\n",
       "      <td>9.80</td>\n",
       "      <td>1</td>\n",
       "      <td>0.97</td>\n",
       "    </tr>\n",
       "    <tr>\n",
       "      <th>143</th>\n",
       "      <td>340</td>\n",
       "      <td>120</td>\n",
       "      <td>4</td>\n",
       "      <td>4.5</td>\n",
       "      <td>4.0</td>\n",
       "      <td>9.92</td>\n",
       "      <td>1</td>\n",
       "      <td>0.97</td>\n",
       "    </tr>\n",
       "    <tr>\n",
       "      <th>71</th>\n",
       "      <td>336</td>\n",
       "      <td>112</td>\n",
       "      <td>5</td>\n",
       "      <td>5.0</td>\n",
       "      <td>5.0</td>\n",
       "      <td>9.76</td>\n",
       "      <td>1</td>\n",
       "      <td>0.96</td>\n",
       "    </tr>\n",
       "    <tr>\n",
       "      <th>384</th>\n",
       "      <td>340</td>\n",
       "      <td>113</td>\n",
       "      <td>4</td>\n",
       "      <td>5.0</td>\n",
       "      <td>5.0</td>\n",
       "      <td>9.74</td>\n",
       "      <td>1</td>\n",
       "      <td>0.96</td>\n",
       "    </tr>\n",
       "    <tr>\n",
       "      <th>130</th>\n",
       "      <td>339</td>\n",
       "      <td>114</td>\n",
       "      <td>5</td>\n",
       "      <td>4.0</td>\n",
       "      <td>4.5</td>\n",
       "      <td>9.76</td>\n",
       "      <td>1</td>\n",
       "      <td>0.96</td>\n",
       "    </tr>\n",
       "    <tr>\n",
       "      <th>496</th>\n",
       "      <td>337</td>\n",
       "      <td>117</td>\n",
       "      <td>5</td>\n",
       "      <td>5.0</td>\n",
       "      <td>5.0</td>\n",
       "      <td>9.87</td>\n",
       "      <td>1</td>\n",
       "      <td>0.96</td>\n",
       "    </tr>\n",
       "    <tr>\n",
       "      <th>213</th>\n",
       "      <td>333</td>\n",
       "      <td>119</td>\n",
       "      <td>5</td>\n",
       "      <td>5.0</td>\n",
       "      <td>4.5</td>\n",
       "      <td>9.78</td>\n",
       "      <td>1</td>\n",
       "      <td>0.96</td>\n",
       "    </tr>\n",
       "    <tr>\n",
       "      <th>385</th>\n",
       "      <td>335</td>\n",
       "      <td>117</td>\n",
       "      <td>5</td>\n",
       "      <td>5.0</td>\n",
       "      <td>5.0</td>\n",
       "      <td>9.82</td>\n",
       "      <td>1</td>\n",
       "      <td>0.96</td>\n",
       "    </tr>\n",
       "  </tbody>\n",
       "</table>\n",
       "</div>"
      ],
      "text/plain": [
       "     GRE Score  TOEFL Score  University Rating  SOP  LOR   CGPA  Research  \\\n",
       "203        334          120                  5  4.0   5.0  9.87         1   \n",
       "202        340          120                  5  4.5   4.5  9.91         1   \n",
       "24         336          119                  5  4.0   3.5  9.80         1   \n",
       "143        340          120                  4  4.5   4.0  9.92         1   \n",
       "71         336          112                  5  5.0   5.0  9.76         1   \n",
       "384        340          113                  4  5.0   5.0  9.74         1   \n",
       "130        339          114                  5  4.0   4.5  9.76         1   \n",
       "496        337          117                  5  5.0   5.0  9.87         1   \n",
       "213        333          119                  5  5.0   4.5  9.78         1   \n",
       "385        335          117                  5  5.0   5.0  9.82         1   \n",
       "\n",
       "     Chance of Admit   \n",
       "203              0.97  \n",
       "202              0.97  \n",
       "24               0.97  \n",
       "143              0.97  \n",
       "71               0.96  \n",
       "384              0.96  \n",
       "130              0.96  \n",
       "496              0.96  \n",
       "213              0.96  \n",
       "385              0.96  "
      ]
     },
     "execution_count": 37,
     "metadata": {},
     "output_type": "execute_result"
    }
   ],
   "source": [
    "df[(df['GRE Score']>310) & (df['TOEFL Score']>105) & ((df['CGPA']>8.5))].sort_values('Chance of Admit ',ascending=False).head(10)"
   ]
  },
  {
   "cell_type": "code",
   "execution_count": 38,
   "id": "f2bcb2f8",
   "metadata": {
    "execution": {
     "iopub.execute_input": "2022-09-15T08:41:42.064519Z",
     "iopub.status.busy": "2022-09-15T08:41:42.063649Z",
     "iopub.status.idle": "2022-09-15T08:41:42.088615Z",
     "shell.execute_reply": "2022-09-15T08:41:42.087777Z"
    },
    "papermill": {
     "duration": 0.058314,
     "end_time": "2022-09-15T08:41:42.090883",
     "exception": false,
     "start_time": "2022-09-15T08:41:42.032569",
     "status": "completed"
    },
    "tags": []
   },
   "outputs": [
    {
     "data": {
      "text/html": [
       "<div>\n",
       "<style scoped>\n",
       "    .dataframe tbody tr th:only-of-type {\n",
       "        vertical-align: middle;\n",
       "    }\n",
       "\n",
       "    .dataframe tbody tr th {\n",
       "        vertical-align: top;\n",
       "    }\n",
       "\n",
       "    .dataframe thead tr th {\n",
       "        text-align: left;\n",
       "    }\n",
       "\n",
       "    .dataframe thead tr:last-of-type th {\n",
       "        text-align: right;\n",
       "    }\n",
       "</style>\n",
       "<table border=\"1\" class=\"dataframe\">\n",
       "  <thead>\n",
       "    <tr>\n",
       "      <th></th>\n",
       "      <th colspan=\"3\" halign=\"left\">SOP</th>\n",
       "      <th colspan=\"3\" halign=\"left\">LOR</th>\n",
       "    </tr>\n",
       "    <tr>\n",
       "      <th></th>\n",
       "      <th>mean</th>\n",
       "      <th>min</th>\n",
       "      <th>max</th>\n",
       "      <th>mean</th>\n",
       "      <th>min</th>\n",
       "      <th>max</th>\n",
       "    </tr>\n",
       "    <tr>\n",
       "      <th>Chance of Admit</th>\n",
       "      <th></th>\n",
       "      <th></th>\n",
       "      <th></th>\n",
       "      <th></th>\n",
       "      <th></th>\n",
       "      <th></th>\n",
       "    </tr>\n",
       "  </thead>\n",
       "  <tbody>\n",
       "    <tr>\n",
       "      <th>0.97</th>\n",
       "      <td>4.250000</td>\n",
       "      <td>4.0</td>\n",
       "      <td>4.5</td>\n",
       "      <td>4.250000</td>\n",
       "      <td>3.5</td>\n",
       "      <td>5.0</td>\n",
       "    </tr>\n",
       "    <tr>\n",
       "      <th>0.96</th>\n",
       "      <td>4.750000</td>\n",
       "      <td>4.0</td>\n",
       "      <td>5.0</td>\n",
       "      <td>4.687500</td>\n",
       "      <td>3.5</td>\n",
       "      <td>5.0</td>\n",
       "    </tr>\n",
       "    <tr>\n",
       "      <th>0.95</th>\n",
       "      <td>4.900000</td>\n",
       "      <td>4.5</td>\n",
       "      <td>5.0</td>\n",
       "      <td>4.400000</td>\n",
       "      <td>4.0</td>\n",
       "      <td>5.0</td>\n",
       "    </tr>\n",
       "    <tr>\n",
       "      <th>0.94</th>\n",
       "      <td>4.692308</td>\n",
       "      <td>4.0</td>\n",
       "      <td>5.0</td>\n",
       "      <td>4.846154</td>\n",
       "      <td>4.5</td>\n",
       "      <td>5.0</td>\n",
       "    </tr>\n",
       "    <tr>\n",
       "      <th>0.93</th>\n",
       "      <td>4.583333</td>\n",
       "      <td>4.0</td>\n",
       "      <td>5.0</td>\n",
       "      <td>4.250000</td>\n",
       "      <td>3.5</td>\n",
       "      <td>5.0</td>\n",
       "    </tr>\n",
       "    <tr>\n",
       "      <th>0.92</th>\n",
       "      <td>4.388889</td>\n",
       "      <td>4.0</td>\n",
       "      <td>5.0</td>\n",
       "      <td>4.500000</td>\n",
       "      <td>3.5</td>\n",
       "      <td>5.0</td>\n",
       "    </tr>\n",
       "    <tr>\n",
       "      <th>0.91</th>\n",
       "      <td>4.250000</td>\n",
       "      <td>3.0</td>\n",
       "      <td>5.0</td>\n",
       "      <td>4.450000</td>\n",
       "      <td>3.5</td>\n",
       "      <td>5.0</td>\n",
       "    </tr>\n",
       "    <tr>\n",
       "      <th>0.90</th>\n",
       "      <td>4.500000</td>\n",
       "      <td>4.0</td>\n",
       "      <td>5.0</td>\n",
       "      <td>4.111111</td>\n",
       "      <td>3.0</td>\n",
       "      <td>4.5</td>\n",
       "    </tr>\n",
       "    <tr>\n",
       "      <th>0.89</th>\n",
       "      <td>4.318182</td>\n",
       "      <td>3.5</td>\n",
       "      <td>5.0</td>\n",
       "      <td>4.136364</td>\n",
       "      <td>3.0</td>\n",
       "      <td>4.5</td>\n",
       "    </tr>\n",
       "    <tr>\n",
       "      <th>0.88</th>\n",
       "      <td>4.875000</td>\n",
       "      <td>4.5</td>\n",
       "      <td>5.0</td>\n",
       "      <td>4.500000</td>\n",
       "      <td>4.0</td>\n",
       "      <td>5.0</td>\n",
       "    </tr>\n",
       "  </tbody>\n",
       "</table>\n",
       "</div>"
      ],
      "text/plain": [
       "                       SOP                LOR           \n",
       "                      mean  min  max      mean  min  max\n",
       "Chance of Admit                                         \n",
       "0.97              4.250000  4.0  4.5  4.250000  3.5  5.0\n",
       "0.96              4.750000  4.0  5.0  4.687500  3.5  5.0\n",
       "0.95              4.900000  4.5  5.0  4.400000  4.0  5.0\n",
       "0.94              4.692308  4.0  5.0  4.846154  4.5  5.0\n",
       "0.93              4.583333  4.0  5.0  4.250000  3.5  5.0\n",
       "0.92              4.388889  4.0  5.0  4.500000  3.5  5.0\n",
       "0.91              4.250000  3.0  5.0  4.450000  3.5  5.0\n",
       "0.90              4.500000  4.0  5.0  4.111111  3.0  4.5\n",
       "0.89              4.318182  3.5  5.0  4.136364  3.0  4.5\n",
       "0.88              4.875000  4.5  5.0  4.500000  4.0  5.0"
      ]
     },
     "execution_count": 38,
     "metadata": {},
     "output_type": "execute_result"
    }
   ],
   "source": [
    "df[(df['GRE Score']>310) & (df['TOEFL Score']>105) & ((df['CGPA']>8.5))]\\\n",
    ".groupby('Chance of Admit ').agg({'SOP':['mean','min','max'],'LOR ':['mean','min','max']}).sort_values('Chance of Admit ',ascending=False).head(10)"
   ]
  },
  {
   "cell_type": "markdown",
   "id": "85b3ed8b",
   "metadata": {
    "papermill": {
     "duration": 0.029077,
     "end_time": "2022-09-15T08:41:42.149664",
     "exception": false,
     "start_time": "2022-09-15T08:41:42.120587",
     "status": "completed"
    },
    "tags": []
   },
   "source": [
    "We definitely assume that students who has higher CGPA will have good profiles of SOP and LOR. But there are many students who have higher chances of Admit and having average SOP and LOR. Our above assumption is wrong and this depicts that they have lesser correaltion"
   ]
  },
  {
   "cell_type": "code",
   "execution_count": 39,
   "id": "d98d97dd",
   "metadata": {
    "execution": {
     "iopub.execute_input": "2022-09-15T08:41:42.211772Z",
     "iopub.status.busy": "2022-09-15T08:41:42.211032Z",
     "iopub.status.idle": "2022-09-15T08:41:42.227529Z",
     "shell.execute_reply": "2022-09-15T08:41:42.226626Z"
    },
    "papermill": {
     "duration": 0.050774,
     "end_time": "2022-09-15T08:41:42.229776",
     "exception": false,
     "start_time": "2022-09-15T08:41:42.179002",
     "status": "completed"
    },
    "tags": []
   },
   "outputs": [
    {
     "data": {
      "text/html": [
       "<div>\n",
       "<style scoped>\n",
       "    .dataframe tbody tr th:only-of-type {\n",
       "        vertical-align: middle;\n",
       "    }\n",
       "\n",
       "    .dataframe tbody tr th {\n",
       "        vertical-align: top;\n",
       "    }\n",
       "\n",
       "    .dataframe thead th {\n",
       "        text-align: right;\n",
       "    }\n",
       "</style>\n",
       "<table border=\"1\" class=\"dataframe\">\n",
       "  <thead>\n",
       "    <tr style=\"text-align: right;\">\n",
       "      <th></th>\n",
       "      <th>GRE Score</th>\n",
       "      <th>TOEFL Score</th>\n",
       "      <th>University Rating</th>\n",
       "      <th>SOP</th>\n",
       "      <th>LOR</th>\n",
       "      <th>CGPA</th>\n",
       "      <th>Research</th>\n",
       "      <th>Chance of Admit</th>\n",
       "    </tr>\n",
       "  </thead>\n",
       "  <tbody>\n",
       "    <tr>\n",
       "      <th>24</th>\n",
       "      <td>336</td>\n",
       "      <td>119</td>\n",
       "      <td>5</td>\n",
       "      <td>4.0</td>\n",
       "      <td>3.5</td>\n",
       "      <td>9.80</td>\n",
       "      <td>1</td>\n",
       "      <td>0.97</td>\n",
       "    </tr>\n",
       "    <tr>\n",
       "      <th>33</th>\n",
       "      <td>340</td>\n",
       "      <td>114</td>\n",
       "      <td>5</td>\n",
       "      <td>4.0</td>\n",
       "      <td>4.0</td>\n",
       "      <td>9.60</td>\n",
       "      <td>1</td>\n",
       "      <td>0.90</td>\n",
       "    </tr>\n",
       "    <tr>\n",
       "      <th>142</th>\n",
       "      <td>331</td>\n",
       "      <td>115</td>\n",
       "      <td>5</td>\n",
       "      <td>4.0</td>\n",
       "      <td>3.5</td>\n",
       "      <td>9.44</td>\n",
       "      <td>1</td>\n",
       "      <td>0.92</td>\n",
       "    </tr>\n",
       "    <tr>\n",
       "      <th>148</th>\n",
       "      <td>339</td>\n",
       "      <td>116</td>\n",
       "      <td>4</td>\n",
       "      <td>4.0</td>\n",
       "      <td>3.5</td>\n",
       "      <td>9.80</td>\n",
       "      <td>1</td>\n",
       "      <td>0.96</td>\n",
       "    </tr>\n",
       "    <tr>\n",
       "      <th>150</th>\n",
       "      <td>334</td>\n",
       "      <td>114</td>\n",
       "      <td>4</td>\n",
       "      <td>4.0</td>\n",
       "      <td>4.0</td>\n",
       "      <td>9.43</td>\n",
       "      <td>1</td>\n",
       "      <td>0.93</td>\n",
       "    </tr>\n",
       "    <tr>\n",
       "      <th>285</th>\n",
       "      <td>331</td>\n",
       "      <td>116</td>\n",
       "      <td>5</td>\n",
       "      <td>4.0</td>\n",
       "      <td>4.0</td>\n",
       "      <td>9.26</td>\n",
       "      <td>1</td>\n",
       "      <td>0.93</td>\n",
       "    </tr>\n",
       "    <tr>\n",
       "      <th>361</th>\n",
       "      <td>334</td>\n",
       "      <td>116</td>\n",
       "      <td>4</td>\n",
       "      <td>4.0</td>\n",
       "      <td>3.5</td>\n",
       "      <td>9.54</td>\n",
       "      <td>1</td>\n",
       "      <td>0.93</td>\n",
       "    </tr>\n",
       "    <tr>\n",
       "      <th>403</th>\n",
       "      <td>330</td>\n",
       "      <td>116</td>\n",
       "      <td>4</td>\n",
       "      <td>4.0</td>\n",
       "      <td>3.5</td>\n",
       "      <td>9.23</td>\n",
       "      <td>1</td>\n",
       "      <td>0.91</td>\n",
       "    </tr>\n",
       "  </tbody>\n",
       "</table>\n",
       "</div>"
      ],
      "text/plain": [
       "     GRE Score  TOEFL Score  University Rating  SOP  LOR   CGPA  Research  \\\n",
       "24         336          119                  5  4.0   3.5  9.80         1   \n",
       "33         340          114                  5  4.0   4.0  9.60         1   \n",
       "142        331          115                  5  4.0   3.5  9.44         1   \n",
       "148        339          116                  4  4.0   3.5  9.80         1   \n",
       "150        334          114                  4  4.0   4.0  9.43         1   \n",
       "285        331          116                  5  4.0   4.0  9.26         1   \n",
       "361        334          116                  4  4.0   3.5  9.54         1   \n",
       "403        330          116                  4  4.0   3.5  9.23         1   \n",
       "\n",
       "     Chance of Admit   \n",
       "24               0.97  \n",
       "33               0.90  \n",
       "142              0.92  \n",
       "148              0.96  \n",
       "150              0.93  \n",
       "285              0.93  \n",
       "361              0.93  \n",
       "403              0.91  "
      ]
     },
     "execution_count": 39,
     "metadata": {},
     "output_type": "execute_result"
    }
   ],
   "source": [
    "df[(df['Chance of Admit ']>=0.90) & (df['SOP']<=4) & (df['LOR ']<=4)]"
   ]
  },
  {
   "cell_type": "markdown",
   "id": "5dfac4be",
   "metadata": {
    "papermill": {
     "duration": 0.029573,
     "end_time": "2022-09-15T08:41:42.289719",
     "exception": false,
     "start_time": "2022-09-15T08:41:42.260146",
     "status": "completed"
    },
    "tags": []
   },
   "source": [
    "# Research"
   ]
  },
  {
   "cell_type": "markdown",
   "id": "0f098f7d",
   "metadata": {
    "papermill": {
     "duration": 0.029165,
     "end_time": "2022-09-15T08:41:42.348672",
     "exception": false,
     "start_time": "2022-09-15T08:41:42.319507",
     "status": "completed"
    },
    "tags": []
   },
   "source": [
    "Will Research add anything to the profile?"
   ]
  },
  {
   "cell_type": "code",
   "execution_count": 40,
   "id": "57dc928b",
   "metadata": {
    "execution": {
     "iopub.execute_input": "2022-09-15T08:41:42.409956Z",
     "iopub.status.busy": "2022-09-15T08:41:42.409215Z",
     "iopub.status.idle": "2022-09-15T08:41:42.433860Z",
     "shell.execute_reply": "2022-09-15T08:41:42.432981Z"
    },
    "papermill": {
     "duration": 0.057832,
     "end_time": "2022-09-15T08:41:42.436046",
     "exception": false,
     "start_time": "2022-09-15T08:41:42.378214",
     "status": "completed"
    },
    "tags": []
   },
   "outputs": [
    {
     "data": {
      "text/html": [
       "<div>\n",
       "<style scoped>\n",
       "    .dataframe tbody tr th:only-of-type {\n",
       "        vertical-align: middle;\n",
       "    }\n",
       "\n",
       "    .dataframe tbody tr th {\n",
       "        vertical-align: top;\n",
       "    }\n",
       "\n",
       "    .dataframe thead tr th {\n",
       "        text-align: left;\n",
       "    }\n",
       "\n",
       "    .dataframe thead tr:last-of-type th {\n",
       "        text-align: right;\n",
       "    }\n",
       "</style>\n",
       "<table border=\"1\" class=\"dataframe\">\n",
       "  <thead>\n",
       "    <tr>\n",
       "      <th></th>\n",
       "      <th colspan=\"3\" halign=\"left\">GRE Score</th>\n",
       "      <th colspan=\"3\" halign=\"left\">TOEFL Score</th>\n",
       "      <th colspan=\"3\" halign=\"left\">CGPA</th>\n",
       "      <th colspan=\"3\" halign=\"left\">Chance of Admit</th>\n",
       "    </tr>\n",
       "    <tr>\n",
       "      <th></th>\n",
       "      <th>mean</th>\n",
       "      <th>min</th>\n",
       "      <th>max</th>\n",
       "      <th>mean</th>\n",
       "      <th>min</th>\n",
       "      <th>max</th>\n",
       "      <th>mean</th>\n",
       "      <th>min</th>\n",
       "      <th>max</th>\n",
       "      <th>mean</th>\n",
       "      <th>min</th>\n",
       "      <th>max</th>\n",
       "    </tr>\n",
       "    <tr>\n",
       "      <th>Research</th>\n",
       "      <th></th>\n",
       "      <th></th>\n",
       "      <th></th>\n",
       "      <th></th>\n",
       "      <th></th>\n",
       "      <th></th>\n",
       "      <th></th>\n",
       "      <th></th>\n",
       "      <th></th>\n",
       "      <th></th>\n",
       "      <th></th>\n",
       "      <th></th>\n",
       "    </tr>\n",
       "  </thead>\n",
       "  <tbody>\n",
       "    <tr>\n",
       "      <th>0</th>\n",
       "      <td>309.300000</td>\n",
       "      <td>290</td>\n",
       "      <td>339</td>\n",
       "      <td>103.990909</td>\n",
       "      <td>92</td>\n",
       "      <td>120</td>\n",
       "      <td>8.234727</td>\n",
       "      <td>7.2</td>\n",
       "      <td>9.70</td>\n",
       "      <td>0.634909</td>\n",
       "      <td>0.34</td>\n",
       "      <td>0.89</td>\n",
       "    </tr>\n",
       "    <tr>\n",
       "      <th>1</th>\n",
       "      <td>322.107143</td>\n",
       "      <td>293</td>\n",
       "      <td>340</td>\n",
       "      <td>109.707143</td>\n",
       "      <td>95</td>\n",
       "      <td>120</td>\n",
       "      <td>8.844929</td>\n",
       "      <td>6.8</td>\n",
       "      <td>9.92</td>\n",
       "      <td>0.789964</td>\n",
       "      <td>0.36</td>\n",
       "      <td>0.97</td>\n",
       "    </tr>\n",
       "  </tbody>\n",
       "</table>\n",
       "</div>"
      ],
      "text/plain": [
       "           GRE Score           TOEFL Score               CGPA             \\\n",
       "                mean  min  max        mean min  max      mean  min   max   \n",
       "Research                                                                   \n",
       "0         309.300000  290  339  103.990909  92  120  8.234727  7.2  9.70   \n",
       "1         322.107143  293  340  109.707143  95  120  8.844929  6.8  9.92   \n",
       "\n",
       "         Chance of Admit               \n",
       "                     mean   min   max  \n",
       "Research                               \n",
       "0                0.634909  0.34  0.89  \n",
       "1                0.789964  0.36  0.97  "
      ]
     },
     "execution_count": 40,
     "metadata": {},
     "output_type": "execute_result"
    }
   ],
   "source": [
    "df.groupby('Research')\\\n",
    ".agg({'GRE Score':['mean','min','max'],'TOEFL Score':['mean','min','max'],'CGPA':['mean','min','max'],'Chance of Admit ':['mean','min','max']})\\\n"
   ]
  },
  {
   "cell_type": "markdown",
   "id": "ea1836a6",
   "metadata": {
    "papermill": {
     "duration": 0.02969,
     "end_time": "2022-09-15T08:41:42.495748",
     "exception": false,
     "start_time": "2022-09-15T08:41:42.466058",
     "status": "completed"
    },
    "tags": []
   },
   "source": [
    "Even after doing Reserach, we have mean of admit around 79% which tells us that there are students who done research but has low admit chance"
   ]
  },
  {
   "cell_type": "code",
   "execution_count": 41,
   "id": "83dfa819",
   "metadata": {
    "execution": {
     "iopub.execute_input": "2022-09-15T08:41:42.558127Z",
     "iopub.status.busy": "2022-09-15T08:41:42.557735Z",
     "iopub.status.idle": "2022-09-15T08:41:42.571978Z",
     "shell.execute_reply": "2022-09-15T08:41:42.571142Z"
    },
    "papermill": {
     "duration": 0.048229,
     "end_time": "2022-09-15T08:41:42.574051",
     "exception": false,
     "start_time": "2022-09-15T08:41:42.525822",
     "status": "completed"
    },
    "tags": []
   },
   "outputs": [
    {
     "data": {
      "text/html": [
       "<div>\n",
       "<style scoped>\n",
       "    .dataframe tbody tr th:only-of-type {\n",
       "        vertical-align: middle;\n",
       "    }\n",
       "\n",
       "    .dataframe tbody tr th {\n",
       "        vertical-align: top;\n",
       "    }\n",
       "\n",
       "    .dataframe thead th {\n",
       "        text-align: right;\n",
       "    }\n",
       "</style>\n",
       "<table border=\"1\" class=\"dataframe\">\n",
       "  <thead>\n",
       "    <tr style=\"text-align: right;\">\n",
       "      <th></th>\n",
       "      <th>GRE Score</th>\n",
       "      <th>TOEFL Score</th>\n",
       "      <th>University Rating</th>\n",
       "      <th>SOP</th>\n",
       "      <th>LOR</th>\n",
       "      <th>CGPA</th>\n",
       "      <th>Chance of Admit</th>\n",
       "    </tr>\n",
       "    <tr>\n",
       "      <th>Research</th>\n",
       "      <th></th>\n",
       "      <th></th>\n",
       "      <th></th>\n",
       "      <th></th>\n",
       "      <th></th>\n",
       "      <th></th>\n",
       "      <th></th>\n",
       "    </tr>\n",
       "  </thead>\n",
       "  <tbody>\n",
       "    <tr>\n",
       "      <th>0</th>\n",
       "      <td>9</td>\n",
       "      <td>9</td>\n",
       "      <td>9</td>\n",
       "      <td>9</td>\n",
       "      <td>9</td>\n",
       "      <td>9</td>\n",
       "      <td>9</td>\n",
       "    </tr>\n",
       "    <tr>\n",
       "      <th>1</th>\n",
       "      <td>133</td>\n",
       "      <td>133</td>\n",
       "      <td>133</td>\n",
       "      <td>133</td>\n",
       "      <td>133</td>\n",
       "      <td>133</td>\n",
       "      <td>133</td>\n",
       "    </tr>\n",
       "  </tbody>\n",
       "</table>\n",
       "</div>"
      ],
      "text/plain": [
       "          GRE Score  TOEFL Score  University Rating  SOP  LOR   CGPA  \\\n",
       "Research                                                               \n",
       "0                 9            9                  9    9     9     9   \n",
       "1               133          133                133  133   133   133   \n",
       "\n",
       "          Chance of Admit   \n",
       "Research                    \n",
       "0                        9  \n",
       "1                      133  "
      ]
     },
     "execution_count": 41,
     "metadata": {},
     "output_type": "execute_result"
    }
   ],
   "source": [
    "df[df['Chance of Admit ']>0.80].groupby('Research').count()"
   ]
  },
  {
   "cell_type": "markdown",
   "id": "5239ddb2",
   "metadata": {
    "papermill": {
     "duration": 0.03034,
     "end_time": "2022-09-15T08:41:42.634804",
     "exception": false,
     "start_time": "2022-09-15T08:41:42.604464",
     "status": "completed"
    },
    "tags": []
   },
   "source": [
    "Doing Research is great addition to profile."
   ]
  },
  {
   "cell_type": "code",
   "execution_count": 42,
   "id": "da936023",
   "metadata": {
    "execution": {
     "iopub.execute_input": "2022-09-15T08:41:42.699015Z",
     "iopub.status.busy": "2022-09-15T08:41:42.698275Z",
     "iopub.status.idle": "2022-09-15T08:41:42.706143Z",
     "shell.execute_reply": "2022-09-15T08:41:42.705407Z"
    },
    "papermill": {
     "duration": 0.042416,
     "end_time": "2022-09-15T08:41:42.708294",
     "exception": false,
     "start_time": "2022-09-15T08:41:42.665878",
     "status": "completed"
    },
    "tags": []
   },
   "outputs": [
    {
     "data": {
      "text/plain": [
       "GRE Score            0.563398\n",
       "TOEFL Score          0.467012\n",
       "University Rating    0.427047\n",
       "SOP                  0.408116\n",
       "LOR                  0.372526\n",
       "CGPA                 0.501311\n",
       "Research             1.000000\n",
       "Chance of Admit      0.545871\n",
       "Name: Research, dtype: float64"
      ]
     },
     "execution_count": 42,
     "metadata": {},
     "output_type": "execute_result"
    }
   ],
   "source": [
    "df.corr()['Research']"
   ]
  },
  {
   "cell_type": "markdown",
   "id": "32799b07",
   "metadata": {
    "papermill": {
     "duration": 0.029919,
     "end_time": "2022-09-15T08:41:42.768632",
     "exception": false,
     "start_time": "2022-09-15T08:41:42.738713",
     "status": "completed"
    },
    "tags": []
   },
   "source": [
    "Reserach doesnot provide any high correlation with any other factor. So research is not mandatory but adds strength to profile as people having admit chance >80% having higher proportion of research"
   ]
  },
  {
   "cell_type": "markdown",
   "id": "3feedad7",
   "metadata": {
    "papermill": {
     "duration": 0.029876,
     "end_time": "2022-09-15T08:41:42.829058",
     "exception": false,
     "start_time": "2022-09-15T08:41:42.799182",
     "status": "completed"
    },
    "tags": []
   },
   "source": [
    "**If any have any ideas or suggestions, please comment. It would be helpful.**"
   ]
  },
  {
   "cell_type": "code",
   "execution_count": null,
   "id": "89f01e5e",
   "metadata": {
    "papermill": {
     "duration": 0.029776,
     "end_time": "2022-09-15T08:41:42.888872",
     "exception": false,
     "start_time": "2022-09-15T08:41:42.859096",
     "status": "completed"
    },
    "tags": []
   },
   "outputs": [],
   "source": []
  }
 ],
 "metadata": {
  "kernelspec": {
   "display_name": "Python",
   "language": "python",
   "name": "python3"
  },
  "language_info": {
   "codemirror_mode": {
    "name": "ipython",
    "version": 3
   },
   "file_extension": ".py",
   "mimetype": "text/x-python",
   "name": "python",
   "nbconvert_exporter": "python",
   "pygments_lexer": "ipython3",
   "version": ""
  },
  "papermill": {
   "default_parameters": {},
   "duration": 23.863331,
   "end_time": "2022-09-15T08:41:43.742452",
   "environment_variables": {},
   "exception": null,
   "input_path": "__notebook__.ipynb",
   "output_path": "__notebook__.ipynb",
   "parameters": {},
   "start_time": "2022-09-15T08:41:19.879121",
   "version": "2.3.4"
  },
  "vscode": {
   "interpreter": {
    "hash": "25a19fbe0a9132dfb9279d48d161753c6352f8f9478c2e74383d340069b907c3"
   }
  }
 },
 "nbformat": 4,
 "nbformat_minor": 5
}
